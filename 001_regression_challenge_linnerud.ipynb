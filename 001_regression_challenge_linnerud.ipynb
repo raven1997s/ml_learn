{
 "cells": [
  {
   "cell_type": "markdown",
   "metadata": {},
   "source": [
    "# 用 Scikit-learn 实现一次回归算法\n",
    "\n",
    "\n",
    "https://github.com/microsoft/ML-For-Beginners/blob/main/2-Regression/1-Tools/translations/assignment.zh-cn.md"
   ]
  },
  {
   "cell_type": "code",
   "execution_count": 7,
   "metadata": {},
   "outputs": [
    {
     "name": "stdout",
     "output_type": "stream",
     "text": [
      "(20, 3)\n",
      "{'data': array([[  5., 162.,  60.],\n",
      "       [  2., 110.,  60.],\n",
      "       [ 12., 101., 101.],\n",
      "       [ 12., 105.,  37.],\n",
      "       [ 13., 155.,  58.],\n",
      "       [  4., 101.,  42.],\n",
      "       [  8., 101.,  38.],\n",
      "       [  6., 125.,  40.],\n",
      "       [ 15., 200.,  40.],\n",
      "       [ 17., 251., 250.],\n",
      "       [ 17., 120.,  38.],\n",
      "       [ 13., 210., 115.],\n",
      "       [ 14., 215., 105.],\n",
      "       [  1.,  50.,  50.],\n",
      "       [  6.,  70.,  31.],\n",
      "       [ 12., 210., 120.],\n",
      "       [  4.,  60.,  25.],\n",
      "       [ 11., 230.,  80.],\n",
      "       [ 15., 225.,  73.],\n",
      "       [  2., 110.,  43.]]), 'feature_names': ['Chins', 'Situps', 'Jumps'], 'target': array([[191.,  36.,  50.],\n",
      "       [189.,  37.,  52.],\n",
      "       [193.,  38.,  58.],\n",
      "       [162.,  35.,  62.],\n",
      "       [189.,  35.,  46.],\n",
      "       [182.,  36.,  56.],\n",
      "       [211.,  38.,  56.],\n",
      "       [167.,  34.,  60.],\n",
      "       [176.,  31.,  74.],\n",
      "       [154.,  33.,  56.],\n",
      "       [169.,  34.,  50.],\n",
      "       [166.,  33.,  52.],\n",
      "       [154.,  34.,  64.],\n",
      "       [247.,  46.,  50.],\n",
      "       [193.,  36.,  46.],\n",
      "       [202.,  37.,  62.],\n",
      "       [176.,  37.,  54.],\n",
      "       [157.,  32.,  52.],\n",
      "       [156.,  33.,  54.],\n",
      "       [138.,  33.,  68.]]), 'target_names': ['Weight', 'Waist', 'Pulse'], 'frame': None, 'DESCR': '.. _linnerrud_dataset:\\n\\nLinnerrud dataset\\n-----------------\\n\\n**Data Set Characteristics:**\\n\\n:Number of Instances: 20\\n:Number of Attributes: 3\\n:Missing Attribute Values: None\\n\\nThe Linnerud dataset is a multi-output regression dataset. It consists of three\\nexercise (data) and three physiological (target) variables collected from\\ntwenty middle-aged men in a fitness club:\\n\\n- *physiological* - CSV containing 20 observations on 3 physiological variables:\\n   Weight, Waist and Pulse.\\n- *exercise* - CSV containing 20 observations on 3 exercise variables:\\n   Chins, Situps and Jumps.\\n\\n.. dropdown:: References\\n\\n   * Tenenhaus, M. (1998). La regression PLS: theorie et pratique. Paris:\\n     Editions Technic.\\n', 'data_filename': 'linnerud_exercise.csv', 'target_filename': 'linnerud_physiological.csv', 'data_module': 'sklearn.datasets.data'}\n"
     ]
    }
   ],
   "source": [
    "import matplotlib.pyplot as plt\n",
    "import numpy as np\n",
    "from sklearn import datasets, linear_model, model_selection\n",
    "\n",
    "linnerud = datasets.load_linnerud()\n",
    "\n",
    "print(linnerud.data.shape)\n",
    "print(linnerud)"
   ]
  }
 ],
 "metadata": {
  "kernelspec": {
   "display_name": "venv",
   "language": "python",
   "name": "python3"
  },
  "language_info": {
   "codemirror_mode": {
    "name": "ipython",
    "version": 3
   },
   "file_extension": ".py",
   "mimetype": "text/x-python",
   "name": "python",
   "nbconvert_exporter": "python",
   "pygments_lexer": "ipython3",
   "version": "3.9.6"
  }
 },
 "nbformat": 4,
 "nbformat_minor": 2
}
