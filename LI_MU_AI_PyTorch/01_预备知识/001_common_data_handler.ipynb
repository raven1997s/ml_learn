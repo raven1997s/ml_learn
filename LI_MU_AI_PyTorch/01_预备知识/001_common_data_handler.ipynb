{
 "cells": [
  {
   "cell_type": "code",
   "execution_count": 2,
   "id": "34e4ba62",
   "metadata": {},
   "outputs": [],
   "source": [
    "import torch"
   ]
  },
  {
   "cell_type": "code",
   "execution_count": 14,
   "id": "20a1041a",
   "metadata": {},
   "outputs": [
    {
     "name": "stdout",
     "output_type": "stream",
     "text": [
      "tensor([ 0,  1,  2,  3,  4,  5,  6,  7,  8,  9, 10, 11])\n",
      "torch.Size([12])\n",
      "tensor([[ 0,  1,  2,  3],\n",
      "        [ 4,  5,  6,  7],\n",
      "        [ 8,  9, 10, 11]])\n",
      "torch.Size([3, 4])\n",
      "tensor([[0., 0., 0., 0.],\n",
      "        [0., 0., 0., 0.],\n",
      "        [0., 0., 0., 0.]])\n",
      "tensor([[1., 1., 1., 1.],\n",
      "        [1., 1., 1., 1.],\n",
      "        [1., 1., 1., 1.]])\n",
      "x: tensor([[1., 2., 3.],\n",
      "        [4., 5., 6.]])\n",
      "y: tensor([[ 7,  8,  9],\n",
      "        [10, 11, 12]])\n",
      "x + y: tensor([[ 8., 10., 12.],\n",
      "        [14., 16., 18.]])\n",
      "x - y: tensor([[-6., -6., -6.],\n",
      "        [-6., -6., -6.]])\n",
      "x * y: tensor([[ 7., 16., 27.],\n",
      "        [40., 55., 72.]])\n",
      "x / y: tensor([[0.1429, 0.2500, 0.3333],\n",
      "        [0.4000, 0.4545, 0.5000]])\n"
     ]
    }
   ],
   "source": [
    "x = torch.arange(12)\n",
    "print(x)\n",
    "\n",
    "print(x.shape)\n",
    "\n",
    "x = x.reshape(3, 4)\n",
    "print(x)\n",
    "print(x.shape)\n",
    "\n",
    "x = torch.zeros(3, 4)\n",
    "print(x)\n",
    "x = torch.ones(3, 4)\n",
    "print(x)\n",
    "\n",
    "\n",
    "\n",
    "x = torch.tensor([[1.0, 2, 3], [4, 5, 6]])\n",
    "y = torch.tensor([[7, 8, 9], [10, 11, 12]])\n",
    "print(f\"x: {x}\")\n",
    "print(f\"y: {y}\")\n",
    "\n",
    "print(f\"x + y: {x + y}\")\n",
    "print(f\"x - y: {x - y}\")\n",
    "print(f\"x * y: {x * y}\")\n",
    "print(f\"x / y: {x / y}\")"
   ]
  },
  {
   "cell_type": "code",
   "execution_count": 20,
   "id": "db4dfb6d",
   "metadata": {},
   "outputs": [
    {
     "name": "stdout",
     "output_type": "stream",
     "text": [
      "x: tensor([[ 0.,  1.,  2.,  3.],\n",
      "        [ 4.,  5.,  6.,  7.],\n",
      "        [ 8.,  9., 10., 11.]])\n",
      "y: tensor([[ 6.,  7.,  8.,  9.],\n",
      "        [10., 11., 12., 13.],\n",
      "        [ 1.,  2.,  3.,  4.]])\n",
      "X: tensor([[ 0.,  1.,  2.,  3.],\n",
      "        [ 4.,  5.,  6.,  7.],\n",
      "        [ 8.,  9., 10., 11.],\n",
      "        [ 6.,  7.,  8.,  9.],\n",
      "        [10., 11., 12., 13.],\n",
      "        [ 1.,  2.,  3.,  4.]])\n",
      "X: tensor([[ 0.,  1.,  2.,  3.,  6.,  7.,  8.,  9.],\n",
      "        [ 4.,  5.,  6.,  7., 10., 11., 12., 13.],\n",
      "        [ 8.,  9., 10., 11.,  1.,  2.,  3.,  4.]])\n"
     ]
    }
   ],
   "source": [
    "import torch as troch\n",
    "x = troch.arange(12, dtype=torch.float32).reshape(3, 4)\n",
    "y = troch.tensor([[6, 7, 8, 9], [10, 11, 12, 13], [1, 2, 3, 4]], dtype=torch.float32)\n",
    "print(f\"x: {x}\")\n",
    "print(f\"y: {y}\")\n",
    "\n",
    "X = torch.cat((x, y), dim=0)# Concatenate along the first dimension\\\n",
    "print(f\"X: {X}\")\n",
    "X = torch.cat((x, y), dim=1)# Concatenate along the second dimension\n",
    "print(f\"X: {X}\")"
   ]
  },
  {
   "cell_type": "code",
   "execution_count": 26,
   "id": "1e729f4f",
   "metadata": {},
   "outputs": [
    {
     "name": "stdout",
     "output_type": "stream",
     "text": [
      "Z: tensor([[0., 0., 0., 0., 0., 0., 0., 0.],\n",
      "        [0., 0., 0., 0., 0., 0., 0., 0.],\n",
      "        [0., 0., 0., 0., 0., 0., 0., 0.]])\n",
      "Z id : 5097463376\n",
      "Z id : 5097463376\n"
     ]
    }
   ],
   "source": [
    "X.sum()\n",
    "\n",
    "before = id(X)\n",
    "X = 1 + X\n",
    "id(X) == before\n",
    "\n",
    "\n",
    "Z = torch.zeros_like(X)\n",
    "print(f\"Z: {Z}\")\n",
    "print(f\"Z id : {id(Z)}\")\n",
    "\n",
    "Z[:] = X + 1\n",
    "print(f\"Z id : {id(Z)}\")"
   ]
  },
  {
   "cell_type": "code",
   "execution_count": 27,
   "id": "ea2a6036",
   "metadata": {},
   "outputs": [
    {
     "name": "stdout",
     "output_type": "stream",
     "text": [
      "A: [[ 5.  6.  7.  8. 11. 12. 13. 14.]\n",
      " [ 9. 10. 11. 12. 15. 16. 17. 18.]\n",
      " [13. 14. 15. 16.  6.  7.  8.  9.]]\n",
      "B: tensor([[ 5.,  6.,  7.,  8., 11., 12., 13., 14.],\n",
      "        [ 9., 10., 11., 12., 15., 16., 17., 18.],\n",
      "        [13., 14., 15., 16.,  6.,  7.,  8.,  9.]])\n",
      "<class 'numpy.ndarray'>\n",
      "<class 'torch.Tensor'>\n"
     ]
    }
   ],
   "source": [
    "A = X.numpy()\n",
    "B = torch.tensor(A)\n",
    "print(f\"A: {A}\")\n",
    "print(f\"B: {B}\")\n",
    "print(type(A))\n",
    "print(type(B))"
   ]
  }
 ],
 "metadata": {
  "kernelspec": {
   "display_name": "venv",
   "language": "python",
   "name": "python3"
  },
  "language_info": {
   "codemirror_mode": {
    "name": "ipython",
    "version": 3
   },
   "file_extension": ".py",
   "mimetype": "text/x-python",
   "name": "python",
   "nbconvert_exporter": "python",
   "pygments_lexer": "ipython3",
   "version": "3.9.18"
  }
 },
 "nbformat": 4,
 "nbformat_minor": 5
}
