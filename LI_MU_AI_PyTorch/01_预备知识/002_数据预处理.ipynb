{
 "cells": [
  {
   "cell_type": "code",
   "execution_count": 15,
   "id": "7c2286e6",
   "metadata": {},
   "outputs": [],
   "source": [
    "import os\n",
    "\n",
    "os.makedirs(os.path.join('..', 'data'), exist_ok=True)\n",
    "data_file = os.path.join('..', 'data', 'house_tiny.csv')\n",
    "with open(data_file, 'w') as f:\n",
    "    f.write('NumRooms,Alley,Price\\n')  # 列名\n",
    "    f.write('NA,Pave,127500\\n')  # 每行表示一个数据样本\n",
    "    f.write('2,NA,106000\\n')\n",
    "    f.write('NA,NA,200000\\n')\n",
    "    f.write('3,Xian,106000\\n')\n",
    "    f.write('4,NA,178100\\n')\n",
    "    f.write('NA,NA,140000\\n')"
   ]
  },
  {
   "cell_type": "code",
   "execution_count": 16,
   "id": "addbfe02",
   "metadata": {},
   "outputs": [
    {
     "name": "stdout",
     "output_type": "stream",
     "text": [
      "   NumRooms Alley   Price\n",
      "0       NaN  Pave  127500\n",
      "1       2.0   NaN  106000\n",
      "2       NaN   NaN  200000\n",
      "3       3.0  Xian  106000\n",
      "4       4.0   NaN  178100\n",
      "5       NaN   NaN  140000\n"
     ]
    }
   ],
   "source": [
    "import pandas as pd\n",
    "data = pd.read_csv(data_file)\n",
    "print(data)"
   ]
  },
  {
   "cell_type": "code",
   "execution_count": 17,
   "id": "aa7b7358",
   "metadata": {},
   "outputs": [
    {
     "name": "stdout",
     "output_type": "stream",
     "text": [
      "   NumRooms  Alley_Pave  Alley_Xian  Alley_nan\n",
      "0       NaN        True       False      False\n",
      "1       2.0       False       False       True\n",
      "2       NaN       False       False       True\n",
      "3       3.0       False        True      False\n",
      "4       4.0       False       False       True\n",
      "5       NaN       False       False       True\n",
      "   NumRooms  Alley_Pave  Alley_Xian  Alley_nan\n",
      "0       3.0        True       False      False\n",
      "1       2.0       False       False       True\n",
      "2       3.0       False       False       True\n",
      "3       3.0       False        True      False\n",
      "4       4.0       False       False       True\n",
      "5       3.0       False       False       True\n",
      "tensor([[3., 1., 0., 0.],\n",
      "        [2., 0., 0., 1.],\n",
      "        [3., 0., 0., 1.],\n",
      "        [3., 0., 1., 0.],\n",
      "        [4., 0., 0., 1.],\n",
      "        [3., 0., 0., 1.]], dtype=torch.float64) tensor([127500., 106000., 200000., 106000., 178100., 140000.],\n",
      "       dtype=torch.float64)\n"
     ]
    }
   ],
   "source": [
    "# 处理缺失值\n",
    "import numpy as np\n",
    "import torch\n",
    "\n",
    "# 这里我们将数据集分为输入和输出\n",
    "# iloc[:, 0:2]表示前两列，iloc[:, 2]表示第三列\n",
    "inputs, outputs = data.iloc[:, 0:2], data.iloc[:, 2]\n",
    "#  get_dummies将类别特征转换为数值特征，\n",
    "# 这里我们是为缺失值创建单独的列\n",
    "inputs = pd.get_dummies(inputs, dummy_na=True)\n",
    "print(inputs)\n",
    "\n",
    "# 这里我们用均值填充numrooms缺失值\n",
    "inputs = inputs.fillna(inputs.mean())\n",
    "print(inputs)\n",
    "\n",
    "\n",
    "# 将数据集分为训练集和测试集\n",
    "X = torch.tensor(inputs.to_numpy(dtype=float))\n",
    "y = torch.tensor(outputs.to_numpy(dtype=float))\n",
    "print(X, y)"
   ]
  },
  {
   "cell_type": "code",
   "execution_count": 20,
   "id": "28e31af8",
   "metadata": {},
   "outputs": [
    {
     "name": "stdout",
     "output_type": "stream",
     "text": [
      "   NumRooms Alley\n",
      "3       3.0  Xian\n",
      "(6, 2)\n",
      "2\n",
      "(1, 2)\n"
     ]
    }
   ],
   "source": [
    "# 通过pandas 删除缺失值对应的行\n",
    "# 删除\n",
    "inputs = data.iloc[:, 0:2]\n",
    "cleaned_inputs = inputs.dropna()\n",
    "print(cleaned_inputs)\n",
    "\n",
    "print(inputs.shape)\n",
    "print(inputs.ndim)\n",
    "print(cleaned_inputs.shape)"
   ]
  }
 ],
 "metadata": {
  "kernelspec": {
   "display_name": "venv",
   "language": "python",
   "name": "python3"
  },
  "language_info": {
   "codemirror_mode": {
    "name": "ipython",
    "version": 3
   },
   "file_extension": ".py",
   "mimetype": "text/x-python",
   "name": "python",
   "nbconvert_exporter": "python",
   "pygments_lexer": "ipython3",
   "version": "3.9.18"
  }
 },
 "nbformat": 4,
 "nbformat_minor": 5
}
