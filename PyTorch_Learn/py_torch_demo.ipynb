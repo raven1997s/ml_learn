{
 "cells": [
  {
   "cell_type": "code",
   "execution_count": 12,
   "metadata": {},
   "outputs": [
    {
     "name": "stdout",
     "output_type": "stream",
     "text": [
      "a type: torch.FloatTensor\n",
      "a type: <class 'torch.Tensor'>\n",
      "a type: True\n",
      "a type: False\n",
      "a shape: torch.Size([])\n",
      "b shape: torch.Size([1])\n"
     ]
    },
    {
     "data": {
      "text/plain": [
       "tensor([0., 0., 0.])"
      ]
     },
     "execution_count": 12,
     "metadata": {},
     "output_type": "execute_result"
    }
   ],
   "source": [
    "import torch\n",
    "\n",
    "# type check\n",
    "a = torch.randn(2,3)\n",
    "\n",
    "print(f'a type: {a.type()}')\n",
    "\n",
    "print(f'a type: {type(a)}')\n",
    "\n",
    "print(f'a type: {isinstance(a, torch.Tensor)}')\n",
    "\n",
    "print(f'a type: {isinst ance(a, torch.cuda.DoubleTensor)}')\n",
    "\n",
    "\n",
    "a = torch.tensor(1.)\n",
    "\n",
    "print(f'a shape: {a.shape}')\n",
    "\n",
    "b = torch.tensor([1.])\n",
    "print(f'b shape: {b.shape}')\n",
    "\n",
    "torch.FloatTensor(3)"
   ]
  },
  {
   "cell_type": "code",
   "execution_count": 18,
   "metadata": {},
   "outputs": [
    {
     "name": "stdout",
     "output_type": "stream",
     "text": [
      "Help on function is_available in module torch.cuda:\n",
      "\n",
      "is_available() -> bool\n",
      "    Return a bool indicating if CUDA is currently available.\n",
      "\n"
     ]
    }
   ],
   "source": [
    "torch.cuda.is_available()\n",
    "\n",
    "dir(torch)\n",
    "\n",
    "dir(torch.cuda)\n",
    "\n",
    "dir(torch.cuda.is_available())\n",
    "help(torch.cuda.is_available)"
   ]
  }
 ],
 "metadata": {
  "kernelspec": {
   "display_name": "venv",
   "language": "python",
   "name": "python3"
  },
  "language_info": {
   "codemirror_mode": {
    "name": "ipython",
    "version": 3
   },
   "file_extension": ".py",
   "mimetype": "text/x-python",
   "name": "python",
   "nbconvert_exporter": "python",
   "pygments_lexer": "ipython3",
   "version": "3.9.15"
  }
 },
 "nbformat": 4,
 "nbformat_minor": 2
}
