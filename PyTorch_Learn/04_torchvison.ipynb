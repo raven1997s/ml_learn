{
 "cells": [
  {
   "cell_type": "code",
   "execution_count": 6,
   "metadata": {},
   "outputs": [
    {
     "name": "stdout",
     "output_type": "stream",
     "text": [
      "Files already downloaded and verified\n",
      "Files already downloaded and verified\n",
      "train_set[0]: (<PIL.Image.Image image mode=RGB size=32x32 at 0x166B7C610>, 6)\n"
     ]
    }
   ],
   "source": [
    "import torchvision\n",
    "\n",
    "train_set = torchvision.datasets.CIFAR10(root=\"./dataset\", train=True, download=True)\n",
    "test_set = torchvision.datasets.CIFAR10(root=\"./dataset\", train=False, download=True)\n",
    "\n",
    "print(f'train_set[0]: {train_set[0]}')\n"
   ]
  },
  {
   "cell_type": "code",
   "execution_count": 20,
   "metadata": {},
   "outputs": [
    {
     "name": "stdout",
     "output_type": "stream",
     "text": [
      "test_set[0]: (<PIL.Image.Image image mode=RGB size=32x32 at 0x318ADC580>, 3)\n",
      "test_set:['airplane', 'automobile', 'bird', 'cat', 'deer', 'dog', 'frog', 'horse', 'ship', 'truck']\n",
      "img :<PIL.Image.Image image mode=RGB size=32x32 at 0x166C6EDC0>\n",
      "img type: <class 'PIL.Image.Image'>\n",
      "img.shape: (32, 32)\n",
      "label: 3\n"
     ]
    }
   ],
   "source": [
    "from torch.utils.tensorboard import SummaryWriter\n",
    "import torchvision.transforms as transforms\n",
    "\n",
    "writer = SummaryWriter(\"logs\")\n",
    "\n",
    "print(f\"test_set[0]: {test_set[0]}\") \n",
    "print(f\"test_set:{test_set.classes}\")\n",
    "img, label = test_set[0]\n",
    "img.show()\n",
    "print(f\"img :{img}\")\n",
    "print(f\"img type: {type(img)}\")\n",
    "print(f\"img.shape: {img.size}\")\n",
    "print(f\"label: {label}\")\n",
    "\n",
    "trans_compose = transforms.Compose([transforms.Resize((1024)), transforms.ToTensor()])\n",
    "writer.add_image(\"test_set_0\", trans_compose(img))\n",
    "writer.close()"
   ]
  },
  {
   "cell_type": "code",
   "execution_count": 23,
   "metadata": {},
   "outputs": [
    {
     "name": "stdout",
     "output_type": "stream",
     "text": [
      "Files already downloaded and verified\n",
      "Files already downloaded and verified\n"
     ]
    }
   ],
   "source": [
    "# 获取数据集时，指定transforms参数，对数据进行预处理\n",
    "dataset_config = transforms.Compose([transforms.ToTensor()])\n",
    "\n",
    "train_set = torchvision.datasets.CIFAR10(\n",
    "    root=\"./dataset\", transform=dataset_config, train=True, download=True\n",
    ")\n",
    "test_set = torchvision.datasets.CIFAR10(\n",
    "    root=\"./dataset\", transform=dataset_config, train=False, download=True\n",
    ")\n",
    "\n",
    "# print(f'train_set[0]: {train_set[0]}')\n",
    "\n",
    "writer = SummaryWriter(\"logs\")\n",
    "\n",
    "for i in range(10):\n",
    "    img, label = train_set[i]\n",
    "    writer.add_image(\"dataset_config_train\", img, i)\n",
    "\n",
    "\n",
    "for i in range(10):\n",
    "    img, label = test_set[i]\n",
    "    writer.add_image(\"dataset_config_test\", img, i)\n",
    "writer.close()"
   ]
  }
 ],
 "metadata": {
  "kernelspec": {
   "display_name": "venv",
   "language": "python",
   "name": "python3"
  },
  "language_info": {
   "codemirror_mode": {
    "name": "ipython",
    "version": 3
   },
   "file_extension": ".py",
   "mimetype": "text/x-python",
   "name": "python",
   "nbconvert_exporter": "python",
   "pygments_lexer": "ipython3",
   "version": "3.9.18"
  }
 },
 "nbformat": 4,
 "nbformat_minor": 2
}
