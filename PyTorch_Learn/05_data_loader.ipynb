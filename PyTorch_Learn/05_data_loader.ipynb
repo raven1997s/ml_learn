{
 "cells": [
  {
   "cell_type": "code",
   "execution_count": 10,
   "metadata": {},
   "outputs": [
    {
     "name": "stdout",
     "output_type": "stream",
     "text": [
      "Files already downloaded and verified\n",
      "img shape: torch.Size([3, 32, 32])\n",
      "lable: 3\n"
     ]
    }
   ],
   "source": [
    "import torchvision\n",
    "from torch.utils.data import DataLoader\n",
    "from torch.utils.tensorboard import SummaryWriter\n",
    "\n",
    "# 准备测试集\n",
    "test_data = torchvision.datasets.CIFAR10(\n",
    "    root=\"./dataset\",\n",
    "    transform=torchvision.transforms.ToTensor(),\n",
    "    train=False,\n",
    "    download=True,\n",
    ")\n",
    "\n",
    "# batch_size : 4 ,表示每次取4个数据进行训练\n",
    "# shuffle : True ,表示每次取数据时随机打乱\n",
    "# num_workers : 0 ,表示不启用子进程来读取数据\n",
    "# drop_last : False ,表示当数据集大小不能被batch_size整除时，是否丢弃最后一批数据\n",
    "test_loader = DataLoader(\n",
    "    dataset=test_data, batch_size=64, shuffle=False, num_workers=0, drop_last=False\n",
    ")\n",
    "\n",
    "write = SummaryWriter(\"logs\")\n",
    "\n",
    "# 测试数据集中第一张图片的shape和lable\n",
    "img, lable = test_data[0]\n",
    "print(f\"img shape: {img.shape}\")\n",
    "print(f\"lable: {lable}\")\n",
    "\n",
    "for epoch in range(2):\n",
    "    step = 0\n",
    "    for data in test_loader:\n",
    "        imgs, targets = data\n",
    "        write.add_images(f\"test_data_epoch : {epoch}\", imgs, global_step=step)\n",
    "        step += 1\n",
    "write.close()"
   ]
  }
 ],
 "metadata": {
  "kernelspec": {
   "display_name": "venv",
   "language": "python",
   "name": "python3"
  },
  "language_info": {
   "codemirror_mode": {
    "name": "ipython",
    "version": 3
   },
   "file_extension": ".py",
   "mimetype": "text/x-python",
   "name": "python",
   "nbconvert_exporter": "python",
   "pygments_lexer": "ipython3",
   "version": "3.9.18"
  }
 },
 "nbformat": 4,
 "nbformat_minor": 2
}
