{
 "cells": [
  {
   "cell_type": "code",
   "execution_count": 31,
   "metadata": {},
   "outputs": [
    {
     "name": "stdout",
     "output_type": "stream",
     "text": [
      "image <PIL.Image.Image image mode=RGB size=832x558 at 0x141D207C0>\n",
      "image shape torch.Size([1, 3, 32, 32])\n",
      "output : tensor([[ 5.3858, -3.0176,  2.9067, -0.2029,  1.3704, -0.7927, -1.3984, -2.1112,\n",
      "          3.6477, -4.9368]])\n",
      "预测结果: 类别 0 (airplane)\n"
     ]
    }
   ],
   "source": [
    "import torchvision\n",
    "import torch\n",
    "import torch.nn as nn\n",
    "from torch.nn import Conv2d, MaxPool2d, Linear, Flatten\n",
    "from model import MyModule\n",
    "from PIL import Image\n",
    "\n",
    "image = Image.open(\"./image/airplane.png\").convert(\"RGB\")\n",
    "print(f\"image {image}\")\n",
    "\n",
    "transform = torchvision.transforms.Compose(\n",
    "    [\n",
    "        torchvision.transforms.Resize((32, 32)),\n",
    "        torchvision.transforms.ToTensor(),\n",
    "    ]\n",
    ")\n",
    "\n",
    "image = transform(image)\n",
    "image = image.unsqueeze(0)  \n",
    "print(f\"image shape {image.shape}\")\n",
    "\n",
    "myModule = MyModule()\n",
    "myModule.load_state_dict(torch.load(\"./myModule_10.pth\", weights_only=True))\n",
    "\n",
    "class_names = ['airplane', 'automobile', 'bird', 'cat', 'deer', \n",
    "               'dog', 'frog', 'horse', 'ship', 'truck']\n",
    "\n",
    "\n",
    "# 测试 ,使用eval设置model为测试模式\n",
    "# 通过torch.no_grad() 来关闭梯度计算\n",
    "myModule.eval()\n",
    "with torch.no_grad():\n",
    "    output = myModule(image)\n",
    "    predicted_class = torch.argmax(output).item()\n",
    "    print(f\"output : {output}\")\n",
    "    print(f\"预测结果: 类别 {predicted_class} ({class_names[predicted_class]})\")\n"
   ]
  }
 ],
 "metadata": {
  "kernelspec": {
   "display_name": "venv",
   "language": "python",
   "name": "python3"
  },
  "language_info": {
   "codemirror_mode": {
    "name": "ipython",
    "version": 3
   },
   "file_extension": ".py",
   "mimetype": "text/x-python",
   "name": "python",
   "nbconvert_exporter": "python",
   "pygments_lexer": "ipython3",
   "version": "3.9.18"
  }
 },
 "nbformat": 4,
 "nbformat_minor": 2
}
