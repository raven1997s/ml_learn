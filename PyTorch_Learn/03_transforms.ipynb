{
 "cells": [
  {
   "cell_type": "code",
   "execution_count": 18,
   "metadata": {},
   "outputs": [
    {
     "name": "stdout",
     "output_type": "stream",
     "text": [
      "image type: <class 'numpy.ndarray'>\n",
      "tensor_image type: <class 'torch.Tensor'>\n",
      "tensor image type is torch.FloatTensor\n"
     ]
    }
   ],
   "source": [
    "# python的用法 -> tensor数据类型\n",
    "# 通过transforms.ToTensor()去看俩个问题\n",
    "# 1.transforms 该如何使用\n",
    "# 2.为什么我们需要Tensor数据类型\n",
    "\n",
    "from PIL import Image\n",
    "import cv2\n",
    "import torchvision.transforms as transforms\n",
    "\n",
    "# 通过PIL读取图片\n",
    "# image_path ='./practice_data/train/ants_image/0013035.jpg'\n",
    "# image = Image.open(image_path)\n",
    "\n",
    "# 通过cv2读取图片\n",
    "image_path ='./practice_data/train/ants_image/45472593_bfd624f8dc.jpg'\n",
    "image = cv2.imread(image_path)\n",
    "print(f'image type:', type(image)) \n",
    "\n",
    "# transforms 该如何使用\n",
    "trans = transforms.ToTensor()\n",
    "tensor_image = trans(image)\n",
    "print(f'tensor_image type:', type(tensor_image))\n",
    "\n",
    "print(f'tensor image type is {tensor_image.type()}')\n",
    "\n",
    "\n",
    "# 为什么我们需要Tensor数据类型\n"
   ]
  },
  {
   "cell_type": "code",
   "execution_count": 21,
   "metadata": {},
   "outputs": [],
   "source": [
    "from torch.utils.tensorboard import SummaryWriter\n",
    "\n",
    "writer = SummaryWriter('logs')\n",
    "\n",
    "writer.add_image('Tensor_img', tensor_image, 2)\n",
    "\n",
    "writer.close()"
   ]
  },
  {
   "cell_type": "code",
   "execution_count": 17,
   "metadata": {},
   "outputs": [
    {
     "name": "stdout",
     "output_type": "stream",
     "text": [
      "4.7.0\n"
     ]
    }
   ],
   "source": [
    "import cv2\n",
    "print(cv2.__version__)"
   ]
  }
 ],
 "metadata": {
  "kernelspec": {
   "display_name": "venv",
   "language": "python",
   "name": "python3"
  },
  "language_info": {
   "codemirror_mode": {
    "name": "ipython",
    "version": 3
   },
   "file_extension": ".py",
   "mimetype": "text/x-python",
   "name": "python",
   "nbconvert_exporter": "python",
   "pygments_lexer": "ipython3",
   "version": "3.9.15"
  }
 },
 "nbformat": 4,
 "nbformat_minor": 2
}
