{
 "cells": [
  {
   "cell_type": "code",
   "execution_count": 18,
   "metadata": {},
   "outputs": [
    {
     "name": "stdout",
     "output_type": "stream",
     "text": [
      "image type: <class 'numpy.ndarray'>\n",
      "tensor_image type: <class 'torch.Tensor'>\n",
      "tensor image type is torch.FloatTensor\n"
     ]
    }
   ],
   "source": [
    "# python的用法 -> tensor数据类型\n",
    "# 通过transforms.ToTensor()去看俩个问题\n",
    "# 1.transforms 该如何使用\n",
    "# 2.为什么我们需要Tensor数据类型\n",
    "\n",
    "from PIL import Image\n",
    "import cv2\n",
    "import torchvision.transforms as transforms\n",
    "\n",
    "# 通过PIL读取图片\n",
    "# image_path ='./practice_data/train/ants_image/0013035.jpg'\n",
    "# image = Image.open(image_path)\n",
    "\n",
    "# 通过cv2读取图片\n",
    "image_path ='./practice_data/train/ants_image/45472593_bfd624f8dc.jpg'\n",
    "image = cv2.imread(image_path)\n",
    "print(f'image type:', type(image)) \n",
    "\n",
    "# transforms 该如何使用\n",
    "trans = transforms.ToTensor()\n",
    "tensor_image = trans(image)\n",
    "print(f'tensor_image type:', type(tensor_image))\n",
    "\n",
    "print(f'tensor image type is {tensor_image.type()}')\n",
    "\n",
    "\n",
    "# 为什么我们需要Tensor数据类型\n"
   ]
  },
  {
   "cell_type": "code",
   "execution_count": 21,
   "metadata": {},
   "outputs": [],
   "source": [
    "from torch.utils.tensorboard import SummaryWriter\n",
    "\n",
    "writer = SummaryWriter('logs')\n",
    "\n",
    "writer.add_image('Tensor_img', tensor_image, 2)\n",
    "\n",
    "writer.close()"
   ]
  },
  {
   "cell_type": "code",
   "execution_count": 17,
   "metadata": {},
   "outputs": [
    {
     "name": "stdout",
     "output_type": "stream",
     "text": [
      "4.7.0\n"
     ]
    }
   ],
   "source": [
    "import cv2\n",
    "print(cv2.__version__)"
   ]
  },
  {
   "cell_type": "code",
   "execution_count": 27,
   "metadata": {},
   "outputs": [
    {
     "name": "stdout",
     "output_type": "stream",
     "text": [
      "<PIL.JpegImagePlugin.JpegImageFile image mode=RGB size=500x333 at 0x30A97B820>\n",
      "to_tensor_img [0][0][0] : 0.9843137264251709\n",
      "img_norm [0][0][0] : -0.005228757858276367\n",
      "img size : (500, 333)\n",
      "img_resize size : (128, 128)\n"
     ]
    }
   ],
   "source": [
    "from PIL import Image\n",
    "from torch.utils.tensorboard import SummaryWriter\n",
    "from torchvision import transforms\n",
    "\n",
    "writer = SummaryWriter(\"logs\")\n",
    "img = Image.open('./practice_data/train/ants_image/45472593_bfd624f8dc.jpg')\n",
    "print(img)\n",
    "\n",
    "# 如何使用ToTensor 将img图片转为tensor\n",
    "to_tensor = transforms.ToTensor()\n",
    "to_tensor_img = to_tensor(img)\n",
    "writer.add_image(\"ToTensor\", to_tensor_img)\n",
    "\n",
    "# 如何使用Normalize 将图片归一化\n",
    "print(f'to_tensor_img [0][0][0] : {to_tensor_img[0][0][0]}')\n",
    "trans_norm = transforms.Normalize([1, 3, 5],[3, 2, 1])\n",
    "img_norm = trans_norm(to_tensor_img)\n",
    "print(f'img_norm [0][0][0] : {img_norm[0][0][0]}')\n",
    "writer.add_image(\"Normalize\", img_norm, 1)\n",
    "\n",
    "# 如何用resize 将图片缩放\n",
    "print(f'img size : {img.size}')\n",
    "trans_resize = transforms.Resize([128, 128])\n",
    "img_resize = trans_resize(img)\n",
    "print(f'img_resize size : {img_resize.size}')\n",
    "\n",
    "# 展示缩放后的图片\n",
    "to_tensor_resize = to_tensor(img_resize)\n",
    "writer.add_image(\"Resize\", to_tensor_resize,2)\n",
    "\n",
    "# 通过compose将多个transforms组合\n",
    "# PIL -> PIL -> Tensor\n",
    "trans_compose = transforms.Compose([transforms.Resize([1024, 1024]), transforms.ToTensor()])\n",
    "trans_compose_img = trans_compose(img)\n",
    "writer.add_image(\"Compose\", trans_compose_img, 2)\n",
    "\n",
    "\n",
    "# 如何使用RandomCrop\n",
    "trans_random_crop = transforms.RandomCrop([300, 300])\n",
    "trans_random_crop_compose = transforms.Compose([trans_random_crop, to_tensor])\n",
    "for i in range(10):\n",
    "    trans_random_crop_img = trans_random_crop_compose(img)\n",
    "    writer.add_image(\"RandomCrop\", trans_random_crop_img,i)\n",
    "\n",
    "\n",
    "writer.close()\n"
   ]
  }
 ],
 "metadata": {
  "kernelspec": {
   "display_name": "venv",
   "language": "python",
   "name": "python3"
  },
  "language_info": {
   "codemirror_mode": {
    "name": "ipython",
    "version": 3
   },
   "file_extension": ".py",
   "mimetype": "text/x-python",
   "name": "python",
   "nbconvert_exporter": "python",
   "pygments_lexer": "ipython3",
   "version": "3.9.18"
  }
 },
 "nbformat": 4,
 "nbformat_minor": 2
}
