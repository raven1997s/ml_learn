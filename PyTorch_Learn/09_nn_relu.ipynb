{
 "cells": [
  {
   "cell_type": "code",
   "execution_count": 9,
   "metadata": {},
   "outputs": [
    {
     "name": "stdout",
     "output_type": "stream",
     "text": [
      "input shape: torch.Size([2, 2])\n",
      "MyModule: MyModule(\n",
      "  (relu1): ReLU()\n",
      "  (sigmoid1): Sigmoid()\n",
      ")\n",
      "output: tensor([[0.7311, 0.3775],\n",
      "        [0.2689, 0.9526]])\n",
      "otput shape: torch.Size([2, 2])\n"
     ]
    }
   ],
   "source": [
    "import torch\n",
    "import torch.nn as nn\n",
    "\n",
    "input = torch.tensor([[1, -0.5], [-1, 3]])\n",
    "print(f\"input shape: {input.shape}\")\n",
    "\n",
    "\n",
    "class MyModule(nn.Module):\n",
    "    def __init__(self):\n",
    "        super(MyModule, self).__init__()\n",
    "        self.relu1 = nn.ReLU()\n",
    "        self.sigmoid1 = nn.Sigmoid()\n",
    "\n",
    "    def forward(self, input):\n",
    "        output = self.sigmoid1(input)\n",
    "\n",
    "        return output\n",
    "\n",
    "myModule = MyModule()\n",
    "print(f\"MyModule: {myModule}\")\n",
    "\n",
    "output = myModule(input)\n",
    "print(f\"output: {output}\")\n",
    "print(f\"otput shape: {output.shape}\")"
   ]
  },
  {
   "cell_type": "code",
   "execution_count": 10,
   "metadata": {},
   "outputs": [
    {
     "name": "stdout",
     "output_type": "stream",
     "text": [
      "Files already downloaded and verified\n"
     ]
    }
   ],
   "source": [
    "# 导入torchborad\n",
    "import torchvision\n",
    "from torch.utils.tensorboard import SummaryWriter\n",
    "\n",
    "# 导入dataLoader\n",
    "from torch.utils.data import DataLoader\n",
    "\n",
    "dataset = torchvision.datasets.CIFAR10(\n",
    "    root=\"./dataset\",\n",
    "    train=False,\n",
    "    transform=torchvision.transforms.ToTensor(),\n",
    "    download=True,\n",
    ")\n",
    "\n",
    "# 创建一个DataLoader\n",
    "dataLoader = DataLoader(\n",
    "    dataset=dataset,\n",
    "    batch_size=64,\n",
    "    shuffle=True,\n",
    ")\n",
    "# 创建一个SummaryWriter\n",
    "writer = SummaryWriter(\"logs\")\n",
    "step = 0\n",
    "\n",
    "for data in dataLoader:\n",
    "    imgs, targets = data\n",
    "    writer.add_images(\"imgs-input\", imgs, step)\n",
    "    \n",
    "    output = myModule(imgs)\n",
    "    writer.add_images(\"imgs-output\", output, step)\n",
    "    step += 1\n",
    "# 关闭writer\n",
    "writer.close()\n"
   ]
  }
 ],
 "metadata": {
  "kernelspec": {
   "display_name": "venv",
   "language": "python",
   "name": "python3"
  },
  "language_info": {
   "codemirror_mode": {
    "name": "ipython",
    "version": 3
   },
   "file_extension": ".py",
   "mimetype": "text/x-python",
   "name": "python",
   "nbconvert_exporter": "python",
   "pygments_lexer": "ipython3",
   "version": "3.9.18"
  }
 },
 "nbformat": 4,
 "nbformat_minor": 2
}
