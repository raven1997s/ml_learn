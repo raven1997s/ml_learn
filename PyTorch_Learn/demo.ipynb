{
 "cells": [
  {
   "cell_type": "code",
   "execution_count": 3,
   "metadata": {},
   "outputs": [
    {
     "name": "stdout",
     "output_type": "stream",
     "text": [
      "2.3.0.post100\n",
      "gpu: False\n",
      "True\n"
     ]
    }
   ],
   "source": [
    "import torch\n",
    "\n",
    "print(torch.__version__)\n",
    "print(f'gpu: {torch.cuda.is_available()}')\n",
    "print(torch.backends.mps.is_available())"
   ]
  },
  {
   "cell_type": "code",
   "execution_count": 4,
   "metadata": {},
   "outputs": [
    {
     "name": "stdout",
     "output_type": "stream",
     "text": [
      "MPS 计算时间: 0.2311 秒\n"
     ]
    }
   ],
   "source": [
    "import torch\n",
    "import time\n",
    "\n",
    "device = torch.device(\"mps\")\n",
    "\n",
    "# 创建两个大矩阵\n",
    "x = torch.randn(1000, 1000, device=device)\n",
    "y = torch.randn(1000, 1000, device=device)\n",
    "\n",
    "# 测试 GPU 计算时间\n",
    "start_time = time.time()\n",
    "for _ in range(100):\n",
    "    z = torch.mm(x, y)  # 矩阵乘法\n",
    "torch.mps.synchronize()  # MPS 需要同步 GPU\n",
    "end_time = time.time()\n",
    "\n",
    "print(f\"MPS 计算时间: {end_time - start_time:.4f} 秒\")\n"
   ]
  },
  {
   "cell_type": "code",
   "execution_count": 5,
   "metadata": {},
   "outputs": [
    {
     "name": "stdout",
     "output_type": "stream",
     "text": [
      "CPU 计算时间: 2.0716 秒\n"
     ]
    }
   ],
   "source": [
    "import torch\n",
    "import time\n",
    "\n",
    "device = torch.device(\"cpu\")\n",
    "\n",
    "x = torch.randn(1000, 1000, device=device)\n",
    "y = torch.randn(1000, 1000, device=device)\n",
    "\n",
    "start_time = time.time()\n",
    "for _ in range(100):\n",
    "    z = torch.mm(x, y)\n",
    "end_time = time.time()\n",
    "\n",
    "print(f\"CPU 计算时间: {end_time - start_time:.4f} 秒\")\n"
   ]
  }
 ],
 "metadata": {
  "kernelspec": {
   "display_name": "venv",
   "language": "python",
   "name": "python3"
  },
  "language_info": {
   "codemirror_mode": {
    "name": "ipython",
    "version": 3
   },
   "file_extension": ".py",
   "mimetype": "text/x-python",
   "name": "python",
   "nbconvert_exporter": "python",
   "pygments_lexer": "ipython3",
   "version": "3.9.18"
  }
 },
 "nbformat": 4,
 "nbformat_minor": 2
}
