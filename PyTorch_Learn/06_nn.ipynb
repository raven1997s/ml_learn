{
 "cells": [
  {
   "cell_type": "code",
   "execution_count": 15,
   "metadata": {},
   "outputs": [
    {
     "name": "stdout",
     "output_type": "stream",
     "text": [
      "tensor(2.)\n"
     ]
    }
   ],
   "source": [
    "from torch import nn\n",
    "import torch\n",
    "\n",
    "\n",
    "class MyModel(nn.Module):\n",
    "    def __init__(self):\n",
    "        super(MyModel, self).__init__()\n",
    "        \n",
    "\n",
    "    def forward(self, x):\n",
    "        x = x + 1\n",
    "        return x\n",
    "\n",
    "myModel = MyModel()\n",
    "x = torch.tensor(1.0)\n",
    "y = myModel(x)\n",
    "print(y)\n"
   ]
  },
  {
   "cell_type": "code",
   "execution_count": 20,
   "metadata": {},
   "outputs": [
    {
     "name": "stdout",
     "output_type": "stream",
     "text": [
      "intput shape: torch.Size([5, 5])\n",
      "kernel shape: torch.Size([3, 3])\n",
      "intput shape: torch.Size([1, 1, 5, 5])\n",
      "kernel shape: torch.Size([1, 1, 3, 3])\n",
      "output shape: torch.Size([1, 1, 3, 3])\n",
      "output value: tensor([[[[10, 12, 12],\n",
      "          [18, 16, 16],\n",
      "          [13,  9,  3]]]])\n",
      "output2 shape: torch.Size([1, 1, 2, 2])\n",
      "output2 value: tensor([[[[10, 12],\n",
      "          [13,  3]]]])\n",
      "output3 shape: torch.Size([1, 1, 5, 5])\n",
      "output3 value: tensor([[[[ 1,  3,  4, 10,  8],\n",
      "          [ 5, 10, 12, 12,  6],\n",
      "          [ 7, 18, 16, 16,  8],\n",
      "          [11, 13,  9,  3,  4],\n",
      "          [14, 13,  9,  7,  4]]]])\n"
     ]
    }
   ],
   "source": [
    "import torch.nn.functional as F\n",
    "\n",
    "# 卷积\n",
    "input = torch.tensor(\n",
    "    [\n",
    "        [1, 2, 0, 3, 1],\n",
    "        [0, 1, 2, 3, 1],\n",
    "        [1, 2, 1, 0, 0],\n",
    "        [5, 2, 3, 1, 1],\n",
    "        [2, 1, 0, 1, 1],\n",
    "    ]\n",
    ")\n",
    "\n",
    "kernel = torch.tensor(\n",
    "    [\n",
    "        [1, 2, 1],\n",
    "        [0, 1, 0],\n",
    "        [2, 1, 0],\n",
    "    ]\n",
    ")\n",
    "\n",
    "print(f\"intput shape: {input.shape}\")\n",
    "print(f\"kernel shape: {kernel.shape}\")\n",
    "\n",
    "# 在pytorch中，卷积操作的输入和卷积核都是四维张量\n",
    "# 卷积的输入数据的形状为 (batch_size, channel, height, width) （批次大小，通道数，高度，宽度）\n",
    "# demo:\n",
    "# 输入数据为 (1, 1, 5, 5)\n",
    "# 第一个1表示批次大小为1（即一次前向传播只处理一个样本），第二个1表示通道数为1（即灰度图像或单通道数据），5表示高度，5表示宽度\n",
    "input = torch.reshape(input, (1, 1, 5, 5))\n",
    "\n",
    "# 卷积核的形状为 (out_channel, in_channel, kernel_height, kernel_width)（输出通道数，输入通道数【必须和输入数据的通道数一致】，卷积核高度，卷积核宽度）\n",
    "# demo:\n",
    "# 卷积核为 (1, 1, 3, 3)\n",
    "# 第一个1表示输出通道数为1（即卷积操作后的特征图通道数为1），第二个1表示输入通道数为1（即卷积核只能处理单通道数据），3表示卷积核高度，3表示卷积核宽度\n",
    "kernel = torch.reshape(kernel, (1, 1, 3, 3))\n",
    "\n",
    "print(f\"intput shape: {input.shape}\")\n",
    "print(f\"kernel shape: {kernel.shape}\")\n",
    "\n",
    "\n",
    "output = F.conv2d(input, kernel, stride=1)\n",
    "print(f'output shape: {output.shape}')\n",
    "print(f'output value: {output}')\n",
    "\n",
    "output2 = F.conv2d(input, kernel, stride=2)\n",
    "print(f'output2 shape: {output2.shape}')\n",
    "print(f'output2 value: {output2}')\n",
    "\n",
    "output3 = F.conv2d(input, kernel, stride=1, padding=1)\n",
    "print(f'output3 shape: {output3.shape}')\n",
    "print(f'output3 value: {output3}')\n",
    "\n"
   ]
  },
  {
   "cell_type": "code",
   "execution_count": null,
   "metadata": {},
   "outputs": [],
   "source": []
  }
 ],
 "metadata": {
  "kernelspec": {
   "display_name": "venv",
   "language": "python",
   "name": "python3"
  },
  "language_info": {
   "codemirror_mode": {
    "name": "ipython",
    "version": 3
   },
   "file_extension": ".py",
   "mimetype": "text/x-python",
   "name": "python",
   "nbconvert_exporter": "python",
   "pygments_lexer": "ipython3",
   "version": "3.9.18"
  }
 },
 "nbformat": 4,
 "nbformat_minor": 2
}
