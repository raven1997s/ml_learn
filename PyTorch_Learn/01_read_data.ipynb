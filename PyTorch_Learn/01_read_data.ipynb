{
 "cells": [
  {
   "cell_type": "code",
   "execution_count": 8,
   "metadata": {},
   "outputs": [
    {
     "data": {
      "text/plain": [
       "(768, 512)"
      ]
     },
     "execution_count": 8,
     "metadata": {},
     "output_type": "execute_result"
    }
   ],
   "source": [
    "from torch.utils.data import Dataset\n",
    "from PIL import Image\n",
    "import os\n",
    "\n",
    "img_path = '/Users/raven/Documents/devlop/all_in_ai/ml_learn/PyTorch_Learn/hymenoptera_data/train/ants'\n",
    "\n",
    "img = Image.open(img_path + '/0013035.jpg')\n",
    "\n",
    "img.size\n",
    "\n",
    "# img.show() \n"
   ]
  },
  {
   "cell_type": "code",
   "execution_count": 25,
   "metadata": {},
   "outputs": [
    {
     "name": "stdout",
     "output_type": "stream",
     "text": [
      "ants_dataset: 124\n",
      "ants_dataset [0] (<PIL.JpegImagePlugin.JpegImageFile image mode=RGB size=500x375 at 0x12FD88A60>, 'ants')\n",
      "ants_dataset [0] (<PIL.JpegImagePlugin.JpegImageFile image mode=RGB size=500x375 at 0x119071CD0>, 'ants')\n",
      "lable: ants\n"
     ]
    }
   ],
   "source": [
    "class MyData(Dataset):\n",
    "    def __init__(self, root_dir, label_dir):\n",
    "        self.root_dir = root_dir\n",
    "        self.label_dir = label_dir\n",
    "        self.path = os.path.join(self.root_dir, self.label_dir)\n",
    "        self.img_path = os.listdir(self.path)\n",
    "\n",
    "    def __getitem__(self, index):\n",
    "        img_name = self.img_path[index]\n",
    "        img_item_path = os.path.join(self.root_dir, self.label_dir, img_name)\n",
    "        img = Image.open(img_item_path)\n",
    "        lable = self.label_dir\n",
    "        return img, lable\n",
    "    def __len__(self):\n",
    "        return len(self.img_path)\n",
    "    \n",
    "\n",
    "root_dir = '/Users/raven/Documents/devlop/all_in_ai/ml_learn/PyTorch_Learn/hymenoptera_data/train'\n",
    "label_dir = 'ants'\n",
    "ants_dataset = MyData(root_dir, label_dir)\n",
    "\n",
    "print(f'ants_dataset: {ants_dataset.__len__()}')\n",
    "print(f'ants_dataset [0] {ants_dataset.__getitem__(0)}')\n",
    "\n",
    "print(f'ants_dataset [0] {ants_dataset[0]}')\n",
    "\n",
    "img, lable = ants_dataset[1]\n",
    "# img.show()\n",
    "print(f'lable: {lable}')\n"
   ]
  },
  {
   "cell_type": "code",
   "execution_count": 26,
   "metadata": {},
   "outputs": [
    {
     "name": "stdout",
     "output_type": "stream",
     "text": [
      "<__main__.MyData object at 0x12fd88a60>\n",
      "(<PIL.JpegImagePlugin.JpegImageFile image mode=RGB size=500x333 at 0x12FD9A760>, 'bees')\n",
      "lable: bees\n",
      "bees size 121\n"
     ]
    }
   ],
   "source": [
    "bees_lable_dir = 'bees'\n",
    "bees_dataseet = MyData(root_dir=root_dir, label_dir=bees_lable_dir)\n",
    "print(bees_dataseet)\n",
    "print(bees_dataseet[0])\n",
    "img, lable = bees_dataseet[0]\n",
    "# img.show()\n",
    "print(f'lable: {lable}')\n",
    "print(f'bees size {bees_dataseet.__len__()}')\n"
   ]
  },
  {
   "cell_type": "code",
   "execution_count": 29,
   "metadata": {},
   "outputs": [
    {
     "name": "stdout",
     "output_type": "stream",
     "text": [
      "245\n",
      "lable: ants\n",
      "lable: bees\n"
     ]
    }
   ],
   "source": [
    "\n",
    "tarin_dataset = ants_dataset + bees_dataseet\n",
    "print(tarin_dataset.__len__())\n",
    "\n",
    "img , lable = tarin_dataset[123]\n",
    "img.show()\n",
    "print(f'lable: {lable}')\n",
    "\n",
    "img , lable = tarin_dataset[124]\n",
    "img.show()\n",
    "print(f'lable: {lable}')\n"
   ]
  }
 ],
 "metadata": {
  "kernelspec": {
   "display_name": "venv",
   "language": "python",
   "name": "python3"
  },
  "language_info": {
   "codemirror_mode": {
    "name": "ipython",
    "version": 3
   },
   "file_extension": ".py",
   "mimetype": "text/x-python",
   "name": "python",
   "nbconvert_exporter": "python",
   "pygments_lexer": "ipython3",
   "version": "3.9.18"
  }
 },
 "nbformat": 4,
 "nbformat_minor": 2
}
