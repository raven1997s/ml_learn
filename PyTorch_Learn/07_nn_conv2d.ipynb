{
 "cells": [
  {
   "cell_type": "code",
   "execution_count": 18,
   "metadata": {},
   "outputs": [
    {
     "name": "stdout",
     "output_type": "stream",
     "text": [
      "Files already downloaded and verified\n",
      "MyModule: MyModule(\n",
      "  (conv1): Conv2d(3, 6, kernel_size=(3, 3), stride=(1, 1))\n",
      ")\n"
     ]
    }
   ],
   "source": [
    "import torch\n",
    "import torchvision\n",
    "from torch.utils.data import DataLoader\n",
    "from torch.utils.tensorboard import SummaryWriter\n",
    "\n",
    "# 准备数据集\n",
    "# 数据集目录：./dataset\n",
    "# 数据集预处理：将数据集转换为张量\n",
    "# 使用测试数据集，需要下载数据集\n",
    "dataset = torchvision.datasets.CIFAR10(\n",
    "    root=\"./dataset\",\n",
    "    transform=torchvision.transforms.ToTensor(),\n",
    "    train=False,\n",
    "    download=True,\n",
    ")\n",
    "\n",
    "# 创建数据加载器\n",
    "dataloader = DataLoader(dataset, batch_size=64, shuffle=True)\n",
    "\n",
    "\n",
    "class MyModule(torch.nn.Module):\n",
    "    def __init__(self):\n",
    "        super(MyModule, self).__init__()\n",
    "        # 卷积层\n",
    "        # in_channels : 3 ,表示输入通道数，即图片的通道数，3表示RGB图片\n",
    "        # out_channels : 6 ,表示输出通道数，即卷积核的数量\n",
    "        # kernel_size : 3 ,表示卷积核的大小\n",
    "        # stride : 1 ,表示步长\n",
    "        # padding : 0 ,表示没有填充\n",
    "        self.conv1 = torch.nn.Conv2d(\n",
    "            in_channels=3,\n",
    "            out_channels=6,\n",
    "            kernel_size=3,\n",
    "            stride=1,\n",
    "            padding=0,\n",
    "        )\n",
    "\n",
    "    def forward(self, x):\n",
    "        x = self.conv1(x)\n",
    "        return x\n",
    "\n",
    "\n",
    "myModule = MyModule()\n",
    "print(f\"MyModule: {myModule}\")\n",
    "\n",
    "\n",
    "write = SummaryWriter(\"logs\")\n",
    "\n",
    "step = 0\n",
    "for data in dataloader:\n",
    "    imgs, targets = data\n",
    "    # img shape: [64, 3, 32, 32]\n",
    "    # print(f\"imgs shape: {imgs.shape}\")\n",
    "    write.add_images(\"input-img\", imgs, step)\n",
    "\n",
    "    # output shape [64, 6, 30, 30]\n",
    "    output = myModule(imgs)\n",
    "    # print(f\"output shape: {output.shape}\")\n",
    "\n",
    "    # reshape output 为符合TensorBoard要求的格式\n",
    "    output = torch.reshape(output, (-1, 3, 30, 30))\n",
    "    write.add_images(\"output-img\", output, step)\n",
    "    step += 1\n",
    "\n",
    "# 关闭SummaryWriter\n",
    "write.close()"
   ]
  },
  {
   "cell_type": "code",
   "execution_count": null,
   "metadata": {},
   "outputs": [],
   "source": [
    "#"
   ]
  }
 ],
 "metadata": {
  "kernelspec": {
   "display_name": "venv",
   "language": "python",
   "name": "python3"
  },
  "language_info": {
   "codemirror_mode": {
    "name": "ipython",
    "version": 3
   },
   "file_extension": ".py",
   "mimetype": "text/x-python",
   "name": "python",
   "nbconvert_exporter": "python",
   "pygments_lexer": "ipython3",
   "version": "3.9.18"
  }
 },
 "nbformat": 4,
 "nbformat_minor": 2
}
