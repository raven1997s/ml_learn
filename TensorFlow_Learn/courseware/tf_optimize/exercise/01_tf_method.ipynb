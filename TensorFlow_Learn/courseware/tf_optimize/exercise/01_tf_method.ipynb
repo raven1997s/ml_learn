{
 "cells": [
  {
   "cell_type": "markdown",
   "metadata": {},
   "source": [
    "# tf.where (boolean_tensor, x, y) 条件语句真返回x 假返回y"
   ]
  },
  {
   "cell_type": "code",
   "execution_count": null,
   "metadata": {},
   "outputs": [
    {
     "name": "stdout",
     "output_type": "stream",
     "text": [
      "tf.Tensor([1 2 3 4 5], shape=(5,), dtype=int32)\n"
     ]
    }
   ],
   "source": [
    "# tf.where (boolean_tensor, x, y) 条件语句真返回x，假返回y\n",
    "import tensorflow as tf\n",
    "a = tf.constant([1, 2, 3,1,1])\n",
    "b = tf.constant([0,1,3,4,5])\n",
    "\n",
    "# tf.greater(a,b) 返回a>b的布尔值 a>b为真返回true，假返回false\n",
    "c = tf.where(tf.greater(a, b), a, b)\n",
    "print(c)\n"
   ]
  },
  {
   "cell_type": "markdown",
   "metadata": {},
   "source": [
    "# np.random.RandomState.rand() 返回一个[0,1)之间的随机数 "
   ]
  },
  {
   "cell_type": "code",
   "execution_count": null,
   "metadata": {},
   "outputs": [],
   "source": []
  },
  {
   "cell_type": "code",
   "execution_count": 13,
   "metadata": {},
   "outputs": [
    {
     "name": "stdout",
     "output_type": "stream",
     "text": [
      "a is 0.417022004702574\n",
      "b is \n",
      "[[7.20324493e-01 1.14374817e-04 3.02332573e-01]\n",
      " [1.46755891e-01 9.23385948e-02 1.86260211e-01]]\n",
      "b shape is (2, 3)\n"
     ]
    }
   ],
   "source": [
    "# np.random.RandomState.rand(纬度)\n",
    "import numpy as np\n",
    "rdm = np.random.RandomState(seed = 1) # seed = 常数时，每次运行结果不变\n",
    "# 返回一个随机数\n",
    "a = rdm.rand()\n",
    "\n",
    "# 返回一个2行3列的随机数\n",
    "b = rdm.rand(2,3)\n",
    "print(f'a is {a}')\n",
    "print(f'b is \\n{b}')\n",
    "print(f'b shape is {b.shape}')\n",
    "\n",
    "\n"
   ]
  },
  {
   "cell_type": "markdown",
   "metadata": {},
   "source": [
    "# np.vstack() 将多个数组按垂直方向叠加"
   ]
  },
  {
   "cell_type": "code",
   "execution_count": null,
   "metadata": {},
   "outputs": [
    {
     "name": "stdout",
     "output_type": "stream",
     "text": [
      "d is \n",
      "[[1 2]\n",
      " [3 4]\n",
      " [5 6]]\n",
      "d shape is (3, 2)\n"
     ]
    }
   ],
   "source": [
    "# np.vstack() 函数 将多个数组按垂直方向堆叠起来\n",
    "\n",
    "a = np.array([1,2])\n",
    "b = np.array([3,4])\n",
    "c = np.array([5,6])\n",
    "d = np.vstack((a,b,c))\n",
    "print(f'd is \\n{d}')\n",
    "print(f'd shape is {d.shape}')\n"
   ]
  },
  {
   "cell_type": "markdown",
   "metadata": {},
   "source": [
    "#  生成网格数据\n",
    " - np.mgird[]    \n",
    " - np.ravel()     \n",
    " - np.c_[]"
   ]
  },
  {
   "cell_type": "code",
   "execution_count": null,
   "metadata": {},
   "outputs": [
    {
     "name": "stdout",
     "output_type": "stream",
     "text": [
      "a is \n",
      " [1 2]\n",
      "b is \n",
      " [2.  2.5 3.  3.5]\n",
      "x is \n",
      " [[1. 1. 1. 1.]\n",
      " [2. 2. 2. 2.]]\n",
      "y is \n",
      " [[2.  2.5 3.  3.5]\n",
      " [2.  2.5 3.  3.5]]\n",
      "x1 is \n",
      " [1. 1. 1. 1. 2. 2. 2. 2.]\n",
      "y1 is \n",
      " [2.  2.5 3.  3.5 2.  2.5 3.  3.5]\n",
      "grid is \n",
      " [[1.  2. ]\n",
      " [1.  2.5]\n",
      " [1.  3. ]\n",
      " [1.  3.5]\n",
      " [2.  2. ]\n",
      " [2.  2.5]\n",
      " [2.  3. ]\n",
      " [2.  3.5]]\n"
     ]
    }
   ],
   "source": [
    "# np.mgird[] 左闭右开 [1,3)\n",
    "# np.mgird[起始值1:结束值1:步长1,起始值2:结束值2:步长2 ..]\n",
    "\n",
    "a = np.mgrid[1:3:1]\n",
    "b = np.mgrid[2:4:0.5]\n",
    "print(f'a is \\n {a}' )\n",
    "print(f'b is \\n {b}')\n",
    "\n",
    "x,y = np.mgrid[1:3:1, 2:4:0.5]\n",
    "print(f'x is \\n {x}')\n",
    "print(f'y is \\n {y}')\n",
    "\n",
    "\n",
    "# np.ravel() 将多维数组降为一维\n",
    "x1 = x.ravel()\n",
    "print(f'x1 is \\n {x1}')\n",
    "y1 = y.ravel()\n",
    "print(f'y1 is \\n {y1}')\n",
    "\n",
    "# np.c_[] 使返回的间隔数值点配对\n",
    "# 将一维数组转置成多维数组\n",
    "grid = np.c_[x1, y1]\n",
    "print(f'grid is \\n {grid}')\n",
    "\n",
    "\n",
    "# 总结\n",
    "#\t1.\tnp.mgrid 用于生成多维网格点。\n",
    "#\t2.\tnp.ravel 将多维数组展平成一维。\n",
    "#\t3.\tnp.c_[] 将一维数组合并为二维配对形式（坐标点）。\n",
    "# 你最终通过这些步骤，将 (1:3) 和 (2:4) 的网格点展开为坐标对：\n"
   ]
  },
  {
   "cell_type": "markdown",
   "metadata": {},
   "source": [
    " `np.mgrid` 的行为取决于具体的调用方式：\n",
    "\n",
    "1. **一维情况** (`np.mgrid[start:stop:step]`)： \n",
    "   - 它会生成一个一维数组，其中包含从 `start` 到（但不包括）`stop`，步长为 `step` 的值。\n",
    "   - 例如，`np.mgrid[1:3:1]` 生成的是 `[1, 2]`。\n",
    "\n",
    "2. **多维情况** (`np.mgrid[start1:stop1:step1, start2:stop2:step2]`)：\n",
    "   - 它会生成**网格数据**，用来表示笛卡尔坐标系中的点。每个维度上的范围用一个切片表示。\n",
    "   - 例如，`np.mgrid[1:3:1, 2:4:0.5]` 会生成两个 2D 数组：\n",
    "     - `x` 表示所有点在第一个维度上的坐标。\n",
    "     - `y` 表示所有点在第二个维度上的坐标。\n",
    "\n",
    "### 对比 `a` 和 `x`：\n",
    "- `a` 是一维数组：`np.mgrid[1:3:1]` 只沿一个维度生成数值。\n",
    "  ```python\n",
    "  a = [1, 2]\n",
    "  ```\n",
    "\n",
    "- `x` 是二维网格的结果：`np.mgrid[1:3:1, 2:4:0.5]` 的第一部分。\n",
    "  - `x` 会重复每一行，让数组的形状与 `y` 保持一致。\n",
    "  - 它的形状为 `(len(1:3:1), len(2:4:0.5))`，即 `(2, 4)`。\n",
    "\n",
    "具体到你的代码，`x` 和 `a` 的值不同是因为 `x` 包含多维网格的坐标，而 `a` 是简单的一维范围值。\n",
    "\n",
    "### 代码输出说明：\n",
    "```python\n",
    "a = np.mgrid[1:3:1]\n",
    "# a: [1 2]\n",
    "\n",
    "b = np.mgrid[2:4:0.5]\n",
    "# b: [2.  2.5 3.  3.5]\n",
    "\n",
    "x, y = np.mgrid[1:3:1, 2:4:0.5]\n",
    "# x:\n",
    "# [[1 1 1 1]\n",
    "#  [2 2 2 2]]\n",
    "# y:\n",
    "# [[2.  2.5 3.  3.5]\n",
    "#  [2.  2.5 3.  3.5]]\n",
    "```\n",
    "\n",
    "- `x` 表示每一行的值对应 `1:3:1`，每一列重复这些值以形成网格。\n",
    "- `y` 表示每一列的值对应 `2:4:0.5`，每一行重复这些值以形成网格。\n",
    "\n",
    "这样，`x` 和 `y` 共同构成了笛卡尔网格中的所有坐标点。"
   ]
  }
 ],
 "metadata": {
  "kernelspec": {
   "display_name": "venv",
   "language": "python",
   "name": "python3"
  },
  "language_info": {
   "codemirror_mode": {
    "name": "ipython",
    "version": 3
   },
   "file_extension": ".py",
   "mimetype": "text/x-python",
   "name": "python",
   "nbconvert_exporter": "python",
   "pygments_lexer": "ipython3",
   "version": "3.9.15"
  }
 },
 "nbformat": 4,
 "nbformat_minor": 2
}
