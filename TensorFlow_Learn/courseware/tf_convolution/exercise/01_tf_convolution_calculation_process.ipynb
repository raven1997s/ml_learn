{
 "cells": [
  {
   "cell_type": "markdown",
   "metadata": {},
   "source": [
    "# 全连接NN"
   ]
  },
  {
   "cell_type": "markdown",
   "metadata": {},
   "source": [
    "## 全连接网络是怎样的"
   ]
  },
  {
   "cell_type": "markdown",
   "metadata": {},
   "source": [
    "**全连接NN：** 每个神经元与前后相邻层的每一个神经元都有连接关系，输入是特征，输出是预测结果。\n",
    "\n",
    "参数个数：$\\sum=(前层*后层+后层)$\n",
    "\n",
    "                      ↓     ↓ \n",
    "                      w     b\n",
    "\n",
    "**全连接网络示意图：**\n",
    "\n",
    "<img src=\"NN.png\" width=\"500\" height=\"300\" />"
   ]
  },
  {
   "cell_type": "markdown",
   "metadata": {},
   "source": [
    "## 过多的特征如何处理"
   ]
  },
  {
   "cell_type": "markdown",
   "metadata": {},
   "source": [
    "实际项目中的图片多是高分辨率的彩色图 ==>因此送入全连接网络的输入特征数量过多 ==>导致隐藏层层数增加 ==>网络规模过大 ==>待优化参数过多 ==>很容易导致模型过拟合。\n",
    "\n",
    "为了减少模型参数，在实际应用时会**对原始图像进行特征提取**，再把提取到的**特征送给全连接网络**，让**全连接网络输出识别结果。**\n",
    "\n",
    "举例如下：\n",
    "\n",
    "<img src=\"NN_DEMO.png\" width=\"500\" height=\"300\" />"
   ]
  },
  {
   "cell_type": "markdown",
   "metadata": {},
   "source": [
    "# 有效的特征提取方法：卷积计算"
   ]
  },
  {
   "cell_type": "markdown",
   "metadata": {},
   "source": [
    "**卷积（Convolutional）**\n",
    "\n",
    "**什么是卷积？**\n",
    "1. 卷积计算可认为是一种有效提取图像特征的方法\n",
    "2. 一般会用一个正方形的卷积核，按指定步长，在输入特征图上滑动，遍历输入特征图中的每个像素点。每一个步长，卷积核会与输入特征图出现重合区域，重合区域对应元素相乘、求和再加上偏置项，得到输出特征的一个像素点。\n",
    "\n",
    "**如何选择卷积核的深度？**\n",
    "- 如果输入特征是单通道灰度图，使用深度为1的单通道卷积核\n",
    "- 如果输入特征是三通道彩色图，使用深度为3的多通道卷积核 （3*3*3 或者 5*5*3）\n",
    "- 卷积核的通道数要与输入特征图的通道数一致（因为如何想要卷积核与输入特征图对应点匹配，则必须让卷积核的深度与输入特征图的深度一致）\n",
    "- **输入特征图的深度，决定了卷积核的深度**\n",
    "- **当前层卷积核的个数，决定了当前层输出特征图的深度。**\n",
    "\n",
    "ps：如果觉得某层模型的特征提取能力不足，可以在该层多用几个卷积核提取这一层的特征提取能力。\n",
    "\n",
    "\n",
    "**卷积核示意图：**\n",
    "\n",
    "<img src=\"CONV.png\" width=\"500\" height=\"300\" />\n",
    "\n",
    "**单通道卷积计算过程:**\n",
    "\n",
    "<img src=\"conv_calculate.png\" width=\"500\" height=\"300\" />\n",
    "\n",
    "**三通道卷积计算过程:**\n",
    "\n",
    "<img src=\"conv_calculate_2.png\" width=\"500\" height=\"300\" />\n",
    "\n",
    "**卷积核的滑动过程：**\n",
    "\n",
    "<img src=\"convSobel.gif\" width=\"500\" height=\"300\" />\n"
   ]
  }
 ],
 "metadata": {
  "kernelspec": {
   "display_name": "venv",
   "language": "python",
   "name": "python3"
  },
  "language_info": {
   "name": "python",
   "version": "3.9.15"
  }
 },
 "nbformat": 4,
 "nbformat_minor": 2
}
