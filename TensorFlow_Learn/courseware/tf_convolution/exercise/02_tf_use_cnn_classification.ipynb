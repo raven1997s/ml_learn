{
 "cells": [
  {
   "cell_type": "markdown",
   "metadata": {},
   "source": [
    "# 用CNN实现离散数据的分类（以图像分类为例）"
   ]
  },
  {
   "cell_type": "markdown",
   "metadata": {},
   "source": [
    "- 卷积计算过程\n",
    "- 感受野\n",
    "- 全零填充（Padding）\n",
    "- 批标准化（Batch Normalization, BN）\n",
    "- 池化（Pooling）\n",
    "- 舍弃（Dropout）\n",
    "- 卷积神经网络\n",
    "- cifar10数据集\n",
    "- 卷积神经网络搭建示例\n",
    "- 实现LeNet、AlexNet、VGGNet、InceptionNet、ResNet五个经典卷积网络"
   ]
  },
  {
   "cell_type": "markdown",
   "metadata": {},
   "source": [
    "# 感受野（Receptive Field）"
   ]
  },
  {
   "cell_type": "markdown",
   "metadata": {},
   "source": [
    "**感受野** ： 卷积神经网络各输出特征图中的每个像素点，在原始输入图上映射区域的大小。\n",
    "\n",
    "俩层3 * 3的感受野，和一层5 * 5的感受野，如何抉择？\n",
    "\n",
    "<img src=\"receptive_field.png\" width=\"500\" height=\"300\" />"
   ]
  },
  {
   "cell_type": "markdown",
   "metadata": {},
   "source": [
    "# 全零填充（Padding）"
   ]
  },
  {
   "cell_type": "markdown",
   "metadata": {},
   "source": [
    "**全零填充**： 当希望卷积计算保持特征图的尺寸不变时，可以使用全零填充。全零填充是指在输入特征图上，在卷积核与输入特征图重叠区域外，填充0。\n",
    "\n",
    "<img src=\"zero_padding.png\" w idth=\"500\" height=\"300\" />\n",
    "\n",
    "**步长**： 步长是指卷积核在输入特征图上滑动时，每次滑动的步长。步长越大，卷积核在输入特征图上滑动时，每次滑动的步长越大，卷积核在输入特征图上滑动时，每次滑动的步\n",
    "\n",
    " **卷积输出特征图纬度的计算公式**： \n",
    " \n",
    "$$\n",
    "padding（输出特征图边长） =\n",
    "\\begin{cases} \n",
    "SAME & \\text{（全0填充）}   = \\frac{输入特征图边长}{步长} （向上取整）  \\\\\n",
    "VaLID & \\text{（不全0填充）} = \\frac{输入特征图边长 - 卷积核边长 + 1}{步长} （向上取整） \n",
    "\\end{cases}\n",
    "$$\n",
    "\n",
    "如图所示：\n",
    "\n",
    "<img src=\"conv_output_feature_map.png\" w idth=\"500\" height=\"300\" />·\n"
   ]
  },
  {
   "cell_type": "markdown",
   "metadata": {},
   "source": [
    "# 在TensorFlow中描述卷积层"
   ]
  },
  {
   "cell_type": "markdown",
   "metadata": {},
   "source": [
    "```text\n",
    "tf.keras.layers.Conv2D(\n",
    "    filters = 卷积核个数，\n",
    "    kernel_size = 卷积核尺寸，#正方形写核长整数，或者（核高H，核宽w），\n",
    "    strides = 滑动步长，# 横纵向相同写步长整数，或者（纵向步长H，横向步长Wxiang步长w），默认为1，\n",
    "    padding = \"same\" or “valid”，# 使用全零填充是“same”，不使用是“valid”，默认为“valid”，\n",
    "    activation = “relu” or “sigmoid” or \"tanh\" or \"softmax\" 等，# 如果有BN，则不需要激活函数，\n",
    "    input_shape = (高，宽，通道数) # 输入特征图纬度，可省略\n",
    ")\n",
    "```s\n",
    "\n",
    "```python\n",
    "modle = tf.keras.models.Sequential([\n",
    "    Conv2D(6,5,padding=\"valid\",activation=\"sigmoid\"),\n",
    "    MaxPooling2D(2,2),\n",
    "    Conv2D(6,(5,5),padding=\"valid\",activation=\"sigmoid\")),\n",
    "    MaxPooling2D(2,(2,2)),\n",
    "    Conv2D(filters=16,kernel_size=(5,5),padding=\"valid\",activation=\"sigmoid\")\n",
    "    MaxPooling2D(pool_size=(2,2),strides=(2))\n",
    "    Flatten(),\n",
    "    Dense(10,activation=\"softmax\")\n",
    "])\n",
    "```"
   ]
  }
 ],
 "metadata": {
  "kernelspec": {
   "display_name": "venv",
   "language": "python",
   "name": "python3"
  },
  "language_info": {
   "name": "python",
   "version": "3.9.15"
  }
 },
 "nbformat": 4,
 "nbformat_minor": 2
}
