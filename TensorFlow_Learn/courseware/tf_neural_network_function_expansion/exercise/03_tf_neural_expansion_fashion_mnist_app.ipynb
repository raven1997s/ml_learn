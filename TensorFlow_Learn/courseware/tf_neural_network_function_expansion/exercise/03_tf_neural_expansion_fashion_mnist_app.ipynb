{
 "cells": [
  {
   "cell_type": "markdown",
   "metadata": {},
   "source": [
    "# fashion_minist app demo"
   ]
  },
  {
   "cell_type": "markdown",
   "metadata": {},
   "source": [
    "# 构建断点续训的模型"
   ]
  },
  {
   "cell_type": "code",
   "execution_count": null,
   "metadata": {},
   "outputs": [],
   "source": [
    "import tensorflow as tf\n",
    "import os\n",
    "\n",
    "fashion_mnist = tf.keras.datasets.fashion_mnist\n",
    "(x_train, y_train), (x_test, y_test) = fashion_mnist.load_data()\n",
    "x_train, x_test = x_train / 255.0, x_test / 255.0\n",
    "\n",
    "model = tf.keras.models.Sequential([\n",
    "    tf.keras.layers.Flatten(),\n",
    "    tf.keras.layers.Dense(128, activation='relu'),\n",
    "    tf.keras.layers.Dense(10, activation='softmax')\n",
    "])\n",
    "\n",
    "model.compile(optimizer='adam',\n",
    "              loss=tf.keras.losses.SparseCategoricalCrossentropy(from_logits=False),\n",
    "              metrics=['sparse_categorical_accuracy'])\n",
    "\n",
    "# 指定断点续训的路径\n",
    "model_save_path = './checkpoint_fashion_mnist/fashion_mnist.ckpt'\n",
    "\n",
    "if os.path.exists(model_save_path + '.index'):\n",
    "    print('-------------load the model-----------------')\n",
    "    model.load_weights(model_save_path)\n",
    "\n",
    "# 定义断点续训回调函数\n",
    "cp_callback = tf.keras.callbacks.ModelCheckpoint(filepath=model_save_path,\n",
    "                                                save_weights_only=True,\n",
    "                                                save_best_only=True)\n",
    "history = model.fit(x_train, y_train, batch_size=32, epochs=5, validation_data=(x_test, y_test), validation_freq=1,\n",
    "                    callbacks=[cp_callback])\n",
    "model.summary()\n"
   ]
  },
  {
   "cell_type": "markdown",
   "metadata": {},
   "source": [
    "## 绘制模型acc曲线和loss曲线"
   ]
  },
  {
   "cell_type": "code",
   "execution_count": null,
   "metadata": {},
   "outputs": [],
   "source": [
    "import matplotlib.pyplot as plt\n",
    "\n",
    "acc = history.history['sparse_categorical_accuracy']\n",
    "val_acc = history.history['val_sparse_categorical_accuracy']\n",
    "loss = history.history['loss']\n",
    "val_loss = history.history['val_loss']\n",
    "\n",
    "# 绘制训练集和验证集的acc曲线\n",
    "plt.subplot(1,2,1)\n",
    "plt.plot(acc,label='Training Accuracy')\n",
    "plt.plot(val_acc,label='Validation Accuracy')\n",
    "plt.title('Training and Validation Accuracy')\n",
    "plt.legend()\n",
    "\n",
    "# 绘制训练集和验证集的loss曲线\n",
    "plt.subplot(1,2,2)\n",
    "plt.plot(loss,label='Training Loss')\n",
    "plt.plot(val_loss,label='Validation Loss')\n",
    "plt.title('Training and Validation Loss')\n",
    "plt.legend()\n",
    "plt.show()"
   ]
  },
  {
   "cell_type": "markdown",
   "metadata": {},
   "source": [
    "# 预测真实数据的类型"
   ]
  },
  {
   "cell_type": "code",
   "execution_count": null,
   "metadata": {},
   "outputs": [],
   "source": [
    "from PIL import Image\n",
    "import numpy as np\n",
    "import tensorflow as tf\n",
    "\n",
    "model_save_path = './checkpoint_fashion_mnist/fashion_mnist.ckpt'\n",
    "\n",
    "model = tf.keras.models.Sequential([\n",
    "    tf.keras.layers.Flatten(),\n",
    "    tf.keras.layers.Dense(128, activation='relu'),\n",
    "    tf.keras.layers.Dense(10, activation='softmax')\n",
    "])\n",
    "\n",
    "model.load_weights(model_save_path)\n",
    "\n",
    "preNum = int(input(\"input the number of test pictures:\"))\n",
    "base_path = './fashion_mnist/'\n",
    "for i in range(preNum):\n",
    "    image_path = input(\"input the image path \")\n",
    "    img = Image.open(base_path + image_path)\n",
    "    img = img.resize((28, 28), Image.Resampling.LANCZOS)\n",
    "    img_arr = np.array(img.convert('L'))\n",
    "    \n",
    "    for i in range(28):\n",
    "        for j in range(28):\n",
    "            if img_arr[i][j] < 200:\n",
    "                img_arr[i][j] = 255\n",
    "            else:\n",
    "                img_arr[i][j] = 0\n",
    "                \n",
    "    img_arr = img_arr / 255.0\n",
    "    x_predict = img_arr[tf.newaxis, ...]\n",
    "    result = model.predict(x_predict)\n",
    "    \n",
    "    pred = tf.argmax(result, axis=1)\n",
    "    print('\\n')\n",
    "    tf.print(f'{image_path} ==> {pred}')"
   ]
  }
 ],
 "metadata": {
  "kernelspec": {
   "display_name": "venv",
   "language": "python",
   "name": "python3"
  },
  "language_info": {
   "codemirror_mode": {
    "name": "ipython",
    "version": 3
   },
   "file_extension": ".py",
   "mimetype": "text/x-python",
   "name": "python",
   "nbconvert_exporter": "python",
   "pygments_lexer": "ipython3",
   "version": "3.9.15"
  }
 },
 "nbformat": 4,
 "nbformat_minor": 2
}
