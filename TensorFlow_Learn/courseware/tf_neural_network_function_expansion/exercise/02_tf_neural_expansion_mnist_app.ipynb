{
 "cells": [
  {
   "cell_type": "markdown",
   "metadata": {},
   "source": [
    "# 识别手写数字（0-9）"
   ]
  },
  {
   "cell_type": "markdown",
   "metadata": {},
   "source": [
    "## 通过255-img_arr 处理图片背景"
   ]
  },
  {
   "cell_type": "code",
   "execution_count": 25,
   "metadata": {},
   "outputs": [
    {
     "name": "stdout",
     "output_type": "stream",
     "text": [
      "WARNING:tensorflow:Detecting that an object or model or tf.train.Checkpoint is being deleted with unrestored values. See the following logs for the specific values in question. To silence these warnings, use `status.expect_partial()`. See https://www.tensorflow.org/api_docs/python/tf/train/Checkpoint#restorefor details about the status object returned by the restore function.\n",
      "WARNING:tensorflow:Value in checkpoint could not be found in the restored object: (root).layer_with_weights-0.kernel\n",
      "WARNING:tensorflow:Value in checkpoint could not be found in the restored object: (root).layer_with_weights-0.bias\n",
      "WARNING:tensorflow:Value in checkpoint could not be found in the restored object: (root).layer_with_weights-1.kernel\n",
      "WARNING:tensorflow:Value in checkpoint could not be found in the restored object: (root).layer_with_weights-1.bias\n",
      "WARNING:tensorflow:Value in checkpoint could not be found in the restored object: (root).optimizer.iter\n",
      "WARNING:tensorflow:Value in checkpoint could not be found in the restored object: (root).optimizer.beta_1\n",
      "WARNING:tensorflow:Value in checkpoint could not be found in the restored object: (root).optimizer.beta_2\n",
      "WARNING:tensorflow:Value in checkpoint could not be found in the restored object: (root).optimizer.decay\n",
      "WARNING:tensorflow:Value in checkpoint could not be found in the restored object: (root).optimizer.learning_rate\n",
      "WARNING:tensorflow:Value in checkpoint could not be found in the restored object: (root).optimizer's state 'm' for (root).layer_with_weights-0.kernel\n",
      "WARNING:tensorflow:Value in checkpoint could not be found in the restored object: (root).optimizer's state 'm' for (root).layer_with_weights-0.bias\n",
      "WARNING:tensorflow:Value in checkpoint could not be found in the restored object: (root).optimizer's state 'm' for (root).layer_with_weights-1.kernel\n",
      "WARNING:tensorflow:Value in checkpoint could not be found in the restored object: (root).optimizer's state 'm' for (root).layer_with_weights-1.bias\n",
      "WARNING:tensorflow:Value in checkpoint could not be found in the restored object: (root).optimizer's state 'v' for (root).layer_with_weights-0.kernel\n",
      "WARNING:tensorflow:Value in checkpoint could not be found in the restored object: (root).optimizer's state 'v' for (root).layer_with_weights-0.bias\n",
      "WARNING:tensorflow:Value in checkpoint could not be found in the restored object: (root).optimizer's state 'v' for (root).layer_with_weights-1.kernel\n",
      "WARNING:tensorflow:Value in checkpoint could not be found in the restored object: (root).optimizer's state 'v' for (root).layer_with_weights-1.bias\n",
      "1/1 [==============================] - 0s 44ms/step\n",
      "\n",
      "\n",
      "[0]\n"
     ]
    }
   ],
   "source": [
    "from PIL import Image\n",
    "import numpy as np\n",
    "import tensorflow as tf\n",
    "\n",
    "# 指定断点续训的路径\n",
    "model_save_path = './checkpoint/mnist.ckpt'\n",
    "\n",
    "model = tf.keras.models.Sequential([\n",
    "    tf.keras.layers.Flatten(),\n",
    "    tf.keras.layers.Dense(128, activation='relu'),\n",
    "    tf.keras.layers.Dense(10, activation='softmax')\n",
    "])\n",
    "\n",
    "# 加载断点续训的模型参数\n",
    "model.load_weights(model_save_path)\n",
    "\n",
    "# 让用户输入测试图片的数量\n",
    "preNum = int(input(\"input the number of test pictures:\"))\n",
    "\n",
    "base_path = './mnist/'\n",
    "for i in range(preNum):\n",
    "    # 输入测试图片的路径\n",
    "    image_path = input(\"input the image path \")\n",
    "    img = Image.open(base_path + image_path)\n",
    "    # 将图片resize成28*28的尺寸，以符合模型的输入要求\n",
    "    img = img.resize((28, 28), Image.Resampling.LANCZOS)\n",
    "    # 将图片转换为灰度图\n",
    "    img_arr = np.array(img.convert('L'))\n",
    "    \n",
    "    # 翻转图像的颜色，原图是白底黑字，训练集是黑底白字，所以这里需要翻转一下\n",
    "    img_arr = 255 - img_arr\n",
    "    # 将图片像素值归一化，将像素值从0-255归一化到0-1，神经网络通常在输入图像时期期望数据处于0-1之间，这样有助于加快收敛速度\n",
    "    img_arr = img_arr / 255.0\n",
    "    \n",
    "    # 添加一个新的轴，拓展图像数组的纬度，使之变成(1,28,28)\n",
    "    x_predict = img_arr[tf.newaxis, ...]\n",
    "    \n",
    "    # 预测\n",
    "    result = model.predict(x_predict)\n",
    "    \n",
    "    # 获取概率最大的元素的索引\n",
    "    pred = tf.argmax(result, axis=1)\n",
    "    \n",
    "    print('\\n')\n",
    "    tf.print(pred)\n",
    "    \n",
    "\n"
   ]
  },
  {
   "cell_type": "markdown",
   "metadata": {},
   "source": [
    "## 通过遍历处理背景颜色"
   ]
  },
  {
   "cell_type": "code",
   "execution_count": 23,
   "metadata": {},
   "outputs": [
    {
     "name": "stdout",
     "output_type": "stream",
     "text": [
      "1/1 [==============================] - 0s 43ms/step\n",
      "\n",
      "\n",
      "3.png ==> [3]\n",
      "WARNING:tensorflow:Detecting that an object or model or tf.train.Checkpoint is being deleted with unrestored values. See the following logs for the specific values in question. To silence these warnings, use `status.expect_partial()`. See https://www.tensorflow.org/api_docs/python/tf/train/Checkpoint#restorefor details about the status object returned by the restore function.\n",
      "WARNING:tensorflow:Value in checkpoint could not be found in the restored object: (root).optimizer.iter\n",
      "WARNING:tensorflow:Value in checkpoint could not be found in the restored object: (root).optimizer.beta_1\n",
      "WARNING:tensorflow:Value in checkpoint could not be found in the restored object: (root).optimizer.beta_2\n",
      "WARNING:tensorflow:Value in checkpoint could not be found in the restored object: (root).optimizer.decay\n",
      "WARNING:tensorflow:Value in checkpoint could not be found in the restored object: (root).optimizer.learning_rate\n",
      "WARNING:tensorflow:Value in checkpoint could not be found in the restored object: (root).optimizer's state 'm' for (root).layer_with_weights-0.kernel\n",
      "WARNING:tensorflow:Value in checkpoint could not be found in the restored object: (root).optimizer's state 'm' for (root).layer_with_weights-0.bias\n",
      "WARNING:tensorflow:Value in checkpoint could not be found in the restored object: (root).optimizer's state 'm' for (root).layer_with_weights-1.kernel\n",
      "WARNING:tensorflow:Value in checkpoint could not be found in the restored object: (root).optimizer's state 'm' for (root).layer_with_weights-1.bias\n",
      "WARNING:tensorflow:Value in checkpoint could not be found in the restored object: (root).optimizer's state 'v' for (root).layer_with_weights-0.kernel\n",
      "WARNING:tensorflow:Value in checkpoint could not be found in the restored object: (root).optimizer's state 'v' for (root).layer_with_weights-0.bias\n",
      "WARNING:tensorflow:Value in checkpoint could not be found in the restored object: (root).optimizer's state 'v' for (root).layer_with_weights-1.kernel\n",
      "WARNING:tensorflow:Value in checkpoint could not be found in the restored object: (root).optimizer's state 'v' for (root).layer_with_weights-1.bias\n",
      "1/1 [==============================] - 0s 12ms/step\n",
      "\n",
      "\n",
      "4.png ==> [4]\n",
      "1/1 [==============================] - 0s 12ms/step\n",
      "\n",
      "\n",
      "5.png ==> [3]\n"
     ]
    }
   ],
   "source": [
    "from PIL import Image\n",
    "import numpy as np\n",
    "import tensorflow as tf\n",
    "\n",
    "# 指定断点续训的路径\n",
    "model_save_path = './checkpoint/mnist.ckpt'\n",
    "\n",
    "model = tf.keras.models.Sequential([\n",
    "    tf.keras.layers.Flatten(),\n",
    "    tf.keras.layers.Dense(128, activation='relu'),\n",
    "    tf.keras.layers.Dense(10, activation='softmax')\n",
    "])\n",
    "\n",
    "# 加载断点续训的模型参数\n",
    "model.load_weights(model_save_path)\n",
    "\n",
    "# 让用户输入测试图片的数量\n",
    "preNum = int(input(\"input the number of test pictures:\"))\n",
    "base_path = './mnist/'\n",
    "for i in range(preNum):\n",
    "    # 输入测试图片的路径\n",
    "    image_path = input(\"input the image path \")\n",
    "    img = Image.open(base_path + image_path)\n",
    "    # 将图片resize成28*28的尺寸，以符合模型的输入要求\n",
    "    img = img.resize((28, 28), Image.Resampling.LANCZOS)\n",
    "    # 将图片转换为灰度图\n",
    "    img_arr = np.array(img.convert('L'))\n",
    "    \n",
    "    # 翻转图像的颜色，原图是白底黑字，训练集是黑底白字，所以这里需要翻转一下\n",
    "    for i in range(28):\n",
    "        for j in range(28):\n",
    "            if img_arr[i][j] < 200:\n",
    "                img_arr[i][j] = 255\n",
    "            else:\n",
    "                img_arr[i][j] = 0    \n",
    "\n",
    "\n",
    "    # 将图片像素值归一化，将像素值从0-255归一化到0-1，神经网络通常在输入图像时期期望数据处于0-1之间，这样有助于加快收敛速度\n",
    "    img_arr = img_arr / 255.0\n",
    "    \n",
    "    # 添加一个新的轴，拓展图像数组的纬度，使之变成(1,28,28)\n",
    "    x_predict = img_arr[tf.newaxis, ...]\n",
    "    \n",
    "    # 预测\n",
    "    result = model.predict(x_predict)\n",
    "    \n",
    "    # 获取概率最大的元素的索引\n",
    "    pred = tf.argmax(result, axis=1)\n",
    "    \n",
    "    print('\\n')\n",
    "    tf.print(f'{image_path} ==> {pred}')\n",
    "    "
   ]
  }
 ],
 "metadata": {
  "kernelspec": {
   "display_name": "venv",
   "language": "python",
   "name": "python3"
  },
  "language_info": {
   "codemirror_mode": {
    "name": "ipython",
    "version": 3
   },
   "file_extension": ".py",
   "mimetype": "text/x-python",
   "name": "python",
   "nbconvert_exporter": "python",
   "pygments_lexer": "ipython3",
   "version": "3.9.15"
  }
 },
 "nbformat": 4,
 "nbformat_minor": 2
}
