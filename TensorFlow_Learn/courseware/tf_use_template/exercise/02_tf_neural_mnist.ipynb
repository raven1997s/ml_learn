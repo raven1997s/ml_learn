{
 "cells": [
  {
   "cell_type": "markdown",
   "metadata": {},
   "source": [
    "# MNIST数据集DEMO"
   ]
  },
  {
   "cell_type": "code",
   "execution_count": null,
   "metadata": {},
   "outputs": [
    {
     "name": "stdout",
     "output_type": "stream",
     "text": [
      "Epoch 1/5\n"
     ]
    },
    {
     "name": "stderr",
     "output_type": "stream",
     "text": [
      "2024-12-09 17:09:22.206359: W tensorflow/tsl/platform/profile_utils/cpu_utils.cc:128] Failed to get CPU frequency: 0 Hz\n"
     ]
    },
    {
     "name": "stdout",
     "output_type": "stream",
     "text": [
      "1875/1875 [==============================] - 2s 1ms/step - loss: 0.2560 - accuracy: 0.9267 - val_loss: 0.1399 - val_accuracy: 0.9570\n",
      "Epoch 2/5\n",
      "1875/1875 [==============================] - 2s 1ms/step - loss: 0.1165 - accuracy: 0.9656 - val_loss: 0.0984 - val_accuracy: 0.9690\n",
      "Epoch 3/5\n",
      "1875/1875 [==============================] - 2s 996us/step - loss: 0.0805 - accuracy: 0.9760 - val_loss: 0.0894 - val_accuracy: 0.9722\n",
      "Epoch 4/5\n",
      "1875/1875 [==============================] - 2s 982us/step - loss: 0.0600 - accuracy: 0.9817 - val_loss: 0.0801 - val_accuracy: 0.9745\n",
      "Epoch 5/5\n",
      "1875/1875 [==============================] - 2s 910us/step - loss: 0.0476 - accuracy: 0.9848 - val_loss: 0.0781 - val_accuracy: 0.9757\n",
      "Model: \"sequential_2\"\n",
      "_________________________________________________________________\n",
      " Layer (type)                Output Shape              Param #   \n",
      "=================================================================\n",
      " flatten_2 (Flatten)         (None, 784)               0         \n",
      "                                                                 \n",
      " dense_4 (Dense)             (None, 128)               100480    \n",
      "                                                                 \n",
      " dense_5 (Dense)             (None, 10)                1290      \n",
      "                                                                 \n",
      "=================================================================\n",
      "Total params: 101,770\n",
      "Trainable params: 101,770\n",
      "Non-trainable params: 0\n",
      "_________________________________________________________________\n",
      "None\n"
     ]
    }
   ],
   "source": [
    "import tensorflow as tf\n",
    "\n",
    "mnist = tf.keras.datasets.mnist\n",
    "\n",
    "# 导入数据\n",
    "(x_train, y_train), (x_test, y_test) = mnist.load_data()\n",
    "\n",
    "# 归一化\n",
    "x_train, x_test = x_train / 255.0, x_test / 255.0\n",
    "\n",
    "# 构建模型\n",
    "# input_shape 参数指定了输入数据的形状，这里输入数据是 28x28 的灰度图像\n",
    "# flatten 层将输入数据展平，以便将其传递给 Dense 层\n",
    "# Dense 层是全连接层，128 是隐藏单元的数量，relu 是激活函数，softmax 是输出层的激活函数\n",
    "# softmax 激活函数将输出转换为概率分布，以便进行分类问题\n",
    "# 满足概率分布的意思是只指：每个输出都是 0-1，且所有输出相加为 1\n",
    "# output 层是输出层，10 是输出的维度,因为是数字 0-9分类问题，输出维度是 10\n",
    "model = tf.keras.models.Sequential([\n",
    "    tf.keras.layers.Flatten(input_shape=(28, 28)),\n",
    "    tf.keras.layers.Dense(128, activation='relu'),\n",
    "    tf.keras.layers.Dense(10, activation='softmax')\n",
    "])\n",
    "\n",
    "# 编译模型\n",
    "# 使用 adam 优化器，sparse_categorical_crossentropy 作为损失函数，accuracy 作为评价指标\n",
    "# loss from_logits=False 是因为输出层使用了 softmax 激活函数，所以不需要将输出转换为概率分布\n",
    "# metrics=['accuracy'] 是评价指标，accuracy 是准确率\n",
    "model.compile(optimizer='adam',\n",
    "              loss= tf.keras.losses.SparseCategoricalCrossentropy(from_logits=False),\n",
    "              metrics=['accuracy'])\n",
    "\n",
    "# 训练模型\n",
    "# 设置训练参数，epochs 是迭代次数，batch_size 是批量大小\n",
    "# validation_data 参数指定了验证数据，validation_freq 参数指定了每多少次迭代进行一次验证\n",
    "# batch_size 默认是 32，validation_freq 默认是 1 ，\n",
    "model.fit(x_train, y_train, epochs=5,batch_size=32, validation_data=(x_test, y_test),validation_freq=1)\n",
    "\n",
    "\n",
    "# 总结\n",
    "print(model.summary())"
   ]
  },
  {
   "cell_type": "code",
   "execution_count": 11,
   "metadata": {},
   "outputs": [
    {
     "name": "stdout",
     "output_type": "stream",
     "text": [
      "y_train[0]: 5\n",
      "x_train.shape: (60000, 28, 28)\n",
      "x_test.shape: (10000, 28, 28)\n"
     ]
    },
    {
     "data": {
      "image/png": "[encoded data removed]",
      "text/plain": [
       "<Figure size 640x480 with 1 Axes>"
      ]
     },
     "metadata": {},
     "output_type": "display_data"
    }
   ],
   "source": [
    "import matplotlib.pyplot as plt\n",
    "\n",
    "# print(f'x_train[0]: {x_train[0]}')\n",
    "\n",
    "plt.imshow(x_train[0], cmap='gray')\n",
    "\n",
    "print(f'y_train[0]: {y_train[0]}')\n",
    "\n",
    "print(f'x_train.shape: {x_train.shape}')\n",
    "\n",
    "print(f'x_test.shape: {x_test.shape}')"
   ]
  },
  {
   "cell_type": "code",
   "execution_count": 22,
   "metadata": {},
   "outputs": [
    {
     "name": "stdout",
     "output_type": "stream",
     "text": [
      "313/313 [==============================] - 0s 470us/step\n",
      "p[0]: [2.7171302e-06 8.0385682e-08 1.5980202e-05 2.4550926e-04 1.3168253e-09\n",
      " 4.2557414e-07 2.6212194e-12 9.9934775e-01 9.8111959e-06 3.7771245e-04]\n",
      "y_test[0]: 7\n",
      "p[0] max : 7\n"
     ]
    },
    {
     "data": {
      "image/png": "[encoded data removed]",
      "text/plain": [
       "<Figure size 640x480 with 1 Axes>"
      ]
     },
     "metadata": {},
     "output_type": "display_data"
    }
   ],
   "source": [
    "p = model.predict(x_test)\n",
    "\n",
    "print(f'p[0]: {p[0]}')\n",
    "\n",
    "print(f'y_test[0]: {y_test[0]}')\n",
    "\n",
    "plt.imshow(x_test[0] , cmap = 'gray')\n",
    "\n",
    "print(f'p[0] max : {tf.argmax(p[0])}')"
   ]
  }
 ],
 "metadata": {
  "kernelspec": {
   "display_name": "venv",
   "language": "python",
   "name": "python3"
  },
  "language_info": {
   "codemirror_mode": {
    "name": "ipython",
    "version": 3
   },
   "file_extension": ".py",
   "mimetype": "text/x-python",
   "name": "python",
   "nbconvert_exporter": "python",
   "pygments_lexer": "ipython3",
   "version": "3.9.15"
  }
 },
 "nbformat": 4,
 "nbformat_minor": 2
}
