{
 "cells": [
  {
   "cell_type": "code",
   "execution_count": null,
   "metadata": {},
   "outputs": [
    {
     "name": "stdout",
     "output_type": "stream",
     "text": [
      "Epoch 1/5\n"
     ]
    },
    {
     "ename": "ValueError",
     "evalue": "in user code:\n\n    File \"/Users/raven/Documents/devlop/all_in_ai/ml_learn/venv/lib/python3.9/site-packages/keras/src/engine/training.py\", line 1401, in train_function  *\n        return step_function(self, iterator)\n    File \"/Users/raven/Documents/devlop/all_in_ai/ml_learn/venv/lib/python3.9/site-packages/keras/src/engine/training.py\", line 1384, in step_function  **\n        outputs = model.distribute_strategy.run(run_step, args=(data,))\n    File \"/Users/raven/Documents/devlop/all_in_ai/ml_learn/venv/lib/python3.9/site-packages/keras/src/engine/training.py\", line 1373, in run_step  **\n        outputs = model.train_step(data)\n    File \"/Users/raven/Documents/devlop/all_in_ai/ml_learn/venv/lib/python3.9/site-packages/keras/src/engine/training.py\", line 1151, in train_step\n        loss = self.compute_loss(x, y, y_pred, sample_weight)\n    File \"/Users/raven/Documents/devlop/all_in_ai/ml_learn/venv/lib/python3.9/site-packages/keras/src/engine/training.py\", line 1209, in compute_loss\n        return self.compiled_loss(\n    File \"/Users/raven/Documents/devlop/all_in_ai/ml_learn/venv/lib/python3.9/site-packages/keras/src/engine/compile_utils.py\", line 252, in __call__\n        self.build(y_pred)\n    File \"/Users/raven/Documents/devlop/all_in_ai/ml_learn/venv/lib/python3.9/site-packages/keras/src/engine/compile_utils.py\", line 194, in build\n        self._losses = tf.nest.map_structure(\n    File \"/Users/raven/Documents/devlop/all_in_ai/ml_learn/venv/lib/python3.9/site-packages/keras/src/engine/compile_utils.py\", line 365, in _get_loss_object\n        loss = losses_mod.get(loss)\n    File \"/Users/raven/Documents/devlop/all_in_ai/ml_learn/venv/lib/python3.9/site-packages/keras/src/losses.py\", line 2965, in get\n        return deserialize(identifier, use_legacy_format=use_legacy_format)\n    File \"/Users/raven/Documents/devlop/all_in_ai/ml_learn/venv/lib/python3.9/site-packages/keras/src/losses.py\", line 2912, in deserialize\n        return legacy_serialization.deserialize_keras_object(\n    File \"/Users/raven/Documents/devlop/all_in_ai/ml_learn/venv/lib/python3.9/site-packages/keras/src/saving/legacy/serialization.py\", line 537, in deserialize_keras_object\n        raise ValueError(\n\n    ValueError: Unknown loss function: 'sparse_categorical_crosse'. Please ensure you are using a `keras.utils.custom_object_scope` and that this object is included in the scope. See https://www.tensorflow.org/guide/keras/save_and_serialize#registering_the_custom_object for details.\n",
     "output_type": "error",
     "traceback": [
      "\u001b[0;31m---------------------------------------------------------------------------\u001b[0m",
      "\u001b[0;31mValueError\u001b[0m                                Traceback (most recent call last)",
      "Cell \u001b[0;32mIn[11], line 40\u001b[0m\n\u001b[1;32m     38\u001b[0m \u001b[38;5;66;03m# 训练模型\u001b[39;00m\n\u001b[1;32m     39\u001b[0m myCallback \u001b[38;5;241m=\u001b[39m MyCallback()\n\u001b[0;32m---> 40\u001b[0m \u001b[43mmodel\u001b[49m\u001b[38;5;241;43m.\u001b[39;49m\u001b[43mfit\u001b[49m\u001b[43m(\u001b[49m\u001b[43mtrain_images\u001b[49m\u001b[43m,\u001b[49m\u001b[43m \u001b[49m\u001b[43mtrain_labels\u001b[49m\u001b[43m,\u001b[49m\u001b[43m \u001b[49m\u001b[43mepochs\u001b[49m\u001b[38;5;241;43m=\u001b[39;49m\u001b[38;5;241;43m5\u001b[39;49m\u001b[43m,\u001b[49m\u001b[43mcallbacks\u001b[49m\u001b[38;5;241;43m=\u001b[39;49m\u001b[43m[\u001b[49m\u001b[43mmyCallback\u001b[49m\u001b[43m]\u001b[49m\u001b[43m)\u001b[49m\n\u001b[1;32m     42\u001b[0m test_loss, test_acc \u001b[38;5;241m=\u001b[39m model\u001b[38;5;241m.\u001b[39mevaluate(test_images, test_labels)\n\u001b[1;32m     43\u001b[0m \u001b[38;5;28mprint\u001b[39m(\u001b[38;5;124m'\u001b[39m\u001b[38;5;124mTest accuracy:\u001b[39m\u001b[38;5;124m'\u001b[39m, test_acc)\n",
      "File \u001b[0;32m~/Documents/devlop/all_in_ai/ml_learn/venv/lib/python3.9/site-packages/keras/src/utils/traceback_utils.py:70\u001b[0m, in \u001b[0;36mfilter_traceback.<locals>.error_handler\u001b[0;34m(*args, **kwargs)\u001b[0m\n\u001b[1;32m     67\u001b[0m     filtered_tb \u001b[38;5;241m=\u001b[39m _process_traceback_frames(e\u001b[38;5;241m.\u001b[39m__traceback__)\n\u001b[1;32m     68\u001b[0m     \u001b[38;5;66;03m# To get the full stack trace, call:\u001b[39;00m\n\u001b[1;32m     69\u001b[0m     \u001b[38;5;66;03m# `tf.debugging.disable_traceback_filtering()`\u001b[39;00m\n\u001b[0;32m---> 70\u001b[0m     \u001b[38;5;28;01mraise\u001b[39;00m e\u001b[38;5;241m.\u001b[39mwith_traceback(filtered_tb) \u001b[38;5;28;01mfrom\u001b[39;00m \u001b[38;5;28;01mNone\u001b[39;00m\n\u001b[1;32m     71\u001b[0m \u001b[38;5;28;01mfinally\u001b[39;00m:\n\u001b[1;32m     72\u001b[0m     \u001b[38;5;28;01mdel\u001b[39;00m filtered_tb\n",
      "File \u001b[0;32m/var/folders/j9/l2zn8prs1l52lwzszmjt4ct00000gn/T/__autograph_generated_filexp10jtz7.py:15\u001b[0m, in \u001b[0;36mouter_factory.<locals>.inner_factory.<locals>.tf__train_function\u001b[0;34m(iterator)\u001b[0m\n\u001b[1;32m     13\u001b[0m \u001b[38;5;28;01mtry\u001b[39;00m:\n\u001b[1;32m     14\u001b[0m     do_return \u001b[38;5;241m=\u001b[39m \u001b[38;5;28;01mTrue\u001b[39;00m\n\u001b[0;32m---> 15\u001b[0m     retval_ \u001b[38;5;241m=\u001b[39m ag__\u001b[38;5;241m.\u001b[39mconverted_call(ag__\u001b[38;5;241m.\u001b[39mld(step_function), (ag__\u001b[38;5;241m.\u001b[39mld(\u001b[38;5;28mself\u001b[39m), ag__\u001b[38;5;241m.\u001b[39mld(iterator)), \u001b[38;5;28;01mNone\u001b[39;00m, fscope)\n\u001b[1;32m     16\u001b[0m \u001b[38;5;28;01mexcept\u001b[39;00m:\n\u001b[1;32m     17\u001b[0m     do_return \u001b[38;5;241m=\u001b[39m \u001b[38;5;28;01mFalse\u001b[39;00m\n",
      "\u001b[0;31mValueError\u001b[0m: in user code:\n\n    File \"/Users/raven/Documents/devlop/all_in_ai/ml_learn/venv/lib/python3.9/site-packages/keras/src/engine/training.py\", line 1401, in train_function  *\n        return step_function(self, iterator)\n    File \"/Users/raven/Documents/devlop/all_in_ai/ml_learn/venv/lib/python3.9/site-packages/keras/src/engine/training.py\", line 1384, in step_function  **\n        outputs = model.distribute_strategy.run(run_step, args=(data,))\n    File \"/Users/raven/Documents/devlop/all_in_ai/ml_learn/venv/lib/python3.9/site-packages/keras/src/engine/training.py\", line 1373, in run_step  **\n        outputs = model.train_step(data)\n    File \"/Users/raven/Documents/devlop/all_in_ai/ml_learn/venv/lib/python3.9/site-packages/keras/src/engine/training.py\", line 1151, in train_step\n        loss = self.compute_loss(x, y, y_pred, sample_weight)\n    File \"/Users/raven/Documents/devlop/all_in_ai/ml_learn/venv/lib/python3.9/site-packages/keras/src/engine/training.py\", line 1209, in compute_loss\n        return self.compiled_loss(\n    File \"/Users/raven/Documents/devlop/all_in_ai/ml_learn/venv/lib/python3.9/site-packages/keras/src/engine/compile_utils.py\", line 252, in __call__\n        self.build(y_pred)\n    File \"/Users/raven/Documents/devlop/all_in_ai/ml_learn/venv/lib/python3.9/site-packages/keras/src/engine/compile_utils.py\", line 194, in build\n        self._losses = tf.nest.map_structure(\n    File \"/Users/raven/Documents/devlop/all_in_ai/ml_learn/venv/lib/python3.9/site-packages/keras/src/engine/compile_utils.py\", line 365, in _get_loss_object\n        loss = losses_mod.get(loss)\n    File \"/Users/raven/Documents/devlop/all_in_ai/ml_learn/venv/lib/python3.9/site-packages/keras/src/losses.py\", line 2965, in get\n        return deserialize(identifier, use_legacy_format=use_legacy_format)\n    File \"/Users/raven/Documents/devlop/all_in_ai/ml_learn/venv/lib/python3.9/site-packages/keras/src/losses.py\", line 2912, in deserialize\n        return legacy_serialization.deserialize_keras_object(\n    File \"/Users/raven/Documents/devlop/all_in_ai/ml_learn/venv/lib/python3.9/site-packages/keras/src/saving/legacy/serialization.py\", line 537, in deserialize_keras_object\n        raise ValueError(\n\n    ValueError: Unknown loss function: 'sparse_categorical_crosse'. Please ensure you are using a `keras.utils.custom_object_scope` and that this object is included in the scope. See https://www.tensorflow.org/guide/keras/save_and_serialize#registering_the_custom_object for details.\n"
     ]
    }
   ],
   "source": [
    "import tensorflow as tf\n",
    "from tensorflow import keras\n",
    "\n",
    "# 设置回调函数\n",
    "class MyCallback(keras.callbacks.Callback):\n",
    "    def on_epoch_end(self, epoch, logs={}):\n",
    "        if(logs.get('accuracy')>0.95):\n",
    "            print(\"95% accuracy has been reached\")\n",
    "            self.model.stop_training = True\n",
    "\n",
    "# 导入数据\n",
    "(train_images, train_labels), (test_images, test_labels) = keras.datasets.fashion_mnist.load_data()\n",
    "# 归一化\n",
    "train_images,test_images = train_images / 255.0 ,test_images / 255.0\n",
    "\n",
    "# 卷积层数据展平\n",
    "train_images = train_images.reshape((60000, 28, 28, 1))\n",
    "test_images = test_images.reshape((10000, 28, 28, 1))\n",
    "\n",
    "# 构建模型 \n",
    "model = keras.Sequential([\n",
    "    # 卷积层\n",
    "    keras.layers.Conv2D(32, (3, 3), activation='relu', input_shape=(28, 28, 1)),\n",
    "    # 池化层\n",
    "    keras.layers.MaxPooling2D(pool_size=(2, 2)),\n",
    "    # 卷积层\n",
    "    keras.layers.Conv2D(64, (3, 3), activation='relu'),\n",
    "    # 池化层\n",
    "    keras.layers.MaxPooling2D(pool_size=(2, 2)),\n",
    "    keras.layers.Flatten(),\n",
    "    keras.layers.Dense(128, activation='relu'),\n",
    "    keras.layers.Dense(10, activation='softmax')\n",
    "])\n",
    "\n",
    "# 编译模型\n",
    "model.compile(optimizer='adam', loss='sparse_categorical_crossentropy', metrics=['accuracy'])\n",
    "\n",
    "# 训练模型\n",
    "myCallback = MyCallback()\n",
    "model.fit(train_images, train_labels, epochs=5,callbacks=[myCallback])\n",
    "\n",
    "test_loss, test_acc = model.evaluate(test_images, test_labels)\n",
    "print('Test accuracy:', test_acc)\n",
    "print(f'test_loss: {test_loss}')"
   ]
  }
 ],
 "metadata": {
  "kernelspec": {
   "display_name": "venv",
   "language": "python",
   "name": "python3"
  },
  "language_info": {
   "codemirror_mode": {
    "name": "ipython",
    "version": 3
   },
   "file_extension": ".py",
   "mimetype": "text/x-python",
   "name": "python",
   "nbconvert_exporter": "python",
   "pygments_lexer": "ipython3",
   "version": "3.9.6"
  }
 },
 "nbformat": 4,
 "nbformat_minor": 2
}
